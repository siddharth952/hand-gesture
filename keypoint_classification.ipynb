{
 "cells": [
  {
   "cell_type": "code",
   "execution_count": 1,
   "metadata": {},
   "outputs": [
    {
     "name": "stderr",
     "output_type": "stream",
     "text": [
      "/Users/siddharthfampay/Library/Python/3.9/lib/python/site-packages/urllib3/__init__.py:34: NotOpenSSLWarning: urllib3 v2.0 only supports OpenSSL 1.1.1+, currently the 'ssl' module is compiled with 'LibreSSL 2.8.3'. See: https://github.com/urllib3/urllib3/issues/3020\n",
      "  warnings.warn(\n"
     ]
    }
   ],
   "source": [
    "\n",
    "#!pip3 install tensorflow==2.13.0\n",
    "\n",
    "import csv\n",
    "\n",
    "import numpy as np\n",
    "import tensorflow as tf\n",
    "from sklearn.model_selection import train_test_split\n",
    "\n",
    "RANDOM_SEED = 42"
   ]
  },
  {
   "cell_type": "markdown",
   "metadata": {},
   "source": [
    "# 各パス指定"
   ]
  },
  {
   "cell_type": "code",
   "execution_count": 2,
   "metadata": {},
   "outputs": [],
   "source": [
    "dataset = 'model/keypoint_classifier/keypoint.csv'\n",
    "model_save_path = 'model/keypoint_classifier/keypoint_classifier.hdf5'"
   ]
  },
  {
   "cell_type": "markdown",
   "metadata": {},
   "source": [
    "# 分類数設定"
   ]
  },
  {
   "cell_type": "code",
   "execution_count": 3,
   "metadata": {},
   "outputs": [],
   "source": [
    "NUM_CLASSES = 2"
   ]
  },
  {
   "cell_type": "markdown",
   "metadata": {},
   "source": [
    "# 学習データ読み込み"
   ]
  },
  {
   "cell_type": "code",
   "execution_count": 4,
   "metadata": {},
   "outputs": [],
   "source": [
    "X_dataset = np.loadtxt(dataset, delimiter=',', dtype='float32', usecols=list(range(1, (21 * 2) + 1)))"
   ]
  },
  {
   "cell_type": "code",
   "execution_count": 5,
   "metadata": {},
   "outputs": [],
   "source": [
    "y_dataset = np.loadtxt(dataset, delimiter=',', dtype='int32', usecols=(0))"
   ]
  },
  {
   "cell_type": "code",
   "execution_count": 6,
   "metadata": {},
   "outputs": [],
   "source": [
    "X_train, X_test, y_train, y_test = train_test_split(X_dataset, y_dataset, train_size=0.75, random_state=RANDOM_SEED)"
   ]
  },
  {
   "cell_type": "markdown",
   "metadata": {},
   "source": [
    "# モデル構築"
   ]
  },
  {
   "cell_type": "code",
   "execution_count": 7,
   "metadata": {},
   "outputs": [],
   "source": [
    "model = tf.keras.models.Sequential([\n",
    "    tf.keras.layers.Input((21 * 2, )),\n",
    "    tf.keras.layers.Dropout(0.2),\n",
    "    tf.keras.layers.Dense(20, activation='relu'),\n",
    "    tf.keras.layers.Dropout(0.4),\n",
    "    tf.keras.layers.Dense(10, activation='relu'),\n",
    "    tf.keras.layers.Dense(NUM_CLASSES, activation='softmax')\n",
    "])"
   ]
  },
  {
   "cell_type": "code",
   "execution_count": 8,
   "metadata": {},
   "outputs": [
    {
     "name": "stdout",
     "output_type": "stream",
     "text": [
      "Model: \"sequential\"\n",
      "_________________________________________________________________\n",
      " Layer (type)                Output Shape              Param #   \n",
      "=================================================================\n",
      " dropout (Dropout)           (None, 42)                0         \n",
      "                                                                 \n",
      " dense (Dense)               (None, 20)                860       \n",
      "                                                                 \n",
      " dropout_1 (Dropout)         (None, 20)                0         \n",
      "                                                                 \n",
      " dense_1 (Dense)             (None, 10)                210       \n",
      "                                                                 \n",
      " dense_2 (Dense)             (None, 2)                 22        \n",
      "                                                                 \n",
      "=================================================================\n",
      "Total params: 1092 (4.27 KB)\n",
      "Trainable params: 1092 (4.27 KB)\n",
      "Non-trainable params: 0 (0.00 Byte)\n",
      "_________________________________________________________________\n"
     ]
    }
   ],
   "source": [
    "model.summary()  # tf.keras.utils.plot_model(model, show_shapes=True)"
   ]
  },
  {
   "cell_type": "code",
   "execution_count": 9,
   "metadata": {},
   "outputs": [],
   "source": [
    "# モデルチェックポイントのコールバック\n",
    "cp_callback = tf.keras.callbacks.ModelCheckpoint(\n",
    "    model_save_path, verbose=1, save_weights_only=False)\n",
    "# 早期打ち切り用コールバック\n",
    "es_callback = tf.keras.callbacks.EarlyStopping(patience=20, verbose=1)"
   ]
  },
  {
   "cell_type": "code",
   "execution_count": 10,
   "metadata": {},
   "outputs": [],
   "source": [
    "# モデルコンパイル\n",
    "model.compile(\n",
    "    optimizer='adam',\n",
    "    loss='sparse_categorical_crossentropy',\n",
    "    metrics=['accuracy']\n",
    ")"
   ]
  },
  {
   "cell_type": "markdown",
   "metadata": {},
   "source": [
    "# モデル訓練"
   ]
  },
  {
   "cell_type": "code",
   "execution_count": 11,
   "metadata": {
    "scrolled": true
   },
   "outputs": [
    {
     "name": "stdout",
     "output_type": "stream",
     "text": [
      "Epoch 1/1000\n",
      " 1/18 [>.............................] - ETA: 3s - loss: 0.7713 - accuracy: 0.5000\n",
      "Epoch 1: saving model to model/keypoint_classifier/keypoint_classifier.hdf5\n",
      "18/18 [==============================] - 0s 7ms/step - loss: 0.6623 - accuracy: 0.5935 - val_loss: 0.5024 - val_accuracy: 0.7849\n",
      "Epoch 2/1000\n",
      " 1/18 [>.............................] - ETA: 0s - loss: 0.6110 - accuracy: 0.6250\n",
      "Epoch 2: saving model to model/keypoint_classifier/keypoint_classifier.hdf5\n",
      "18/18 [==============================] - 0s 2ms/step - loss: 0.6051 - accuracy: 0.6475 - val_loss: 0.4639 - val_accuracy: 0.8280\n",
      "Epoch 3/1000\n",
      " 1/18 [>.............................] - ETA: 0s - loss: 0.5916 - accuracy: 0.6250\n",
      "Epoch 3: saving model to model/keypoint_classifier/keypoint_classifier.hdf5\n",
      "18/18 [==============================] - 0s 2ms/step - loss: 0.5381 - accuracy: 0.7194 - val_loss: 0.4422 - val_accuracy: 0.8495\n",
      "Epoch 4/1000\n",
      " 1/18 [>.............................] - ETA: 0s - loss: 0.5232 - accuracy: 0.6875\n",
      "Epoch 4: saving model to model/keypoint_classifier/keypoint_classifier.hdf5\n",
      "18/18 [==============================] - 0s 2ms/step - loss: 0.5141 - accuracy: 0.7338 - val_loss: 0.4172 - val_accuracy: 0.8710\n",
      "Epoch 5/1000\n",
      " 1/18 [>.............................] - ETA: 0s - loss: 0.5874 - accuracy: 0.6875\n",
      "Epoch 5: saving model to model/keypoint_classifier/keypoint_classifier.hdf5\n",
      "18/18 [==============================] - 0s 2ms/step - loss: 0.5003 - accuracy: 0.7482 - val_loss: 0.3906 - val_accuracy: 0.8710\n",
      "Epoch 6/1000\n",
      " 1/18 [>.............................] - ETA: 0s - loss: 0.5751 - accuracy: 0.7500\n",
      "Epoch 6: saving model to model/keypoint_classifier/keypoint_classifier.hdf5\n",
      "18/18 [==============================] - 0s 1ms/step - loss: 0.5067 - accuracy: 0.7590 - val_loss: 0.3677 - val_accuracy: 0.8710\n",
      "Epoch 7/1000\n",
      " 1/18 [>.............................] - ETA: 0s - loss: 0.4729 - accuracy: 0.7500\n",
      "Epoch 7: saving model to model/keypoint_classifier/keypoint_classifier.hdf5\n",
      "18/18 [==============================] - 0s 1ms/step - loss: 0.4612 - accuracy: 0.7842 - val_loss: 0.3472 - val_accuracy: 0.8817\n",
      "Epoch 8/1000\n",
      " 1/18 [>.............................] - ETA: 0s - loss: 0.3897 - accuracy: 0.8750\n",
      "Epoch 8: saving model to model/keypoint_classifier/keypoint_classifier.hdf5\n"
     ]
    },
    {
     "name": "stderr",
     "output_type": "stream",
     "text": [
      "/Users/siddharthfampay/Library/Python/3.9/lib/python/site-packages/keras/src/engine/training.py:3000: UserWarning: You are saving your model as an HDF5 file via `model.save()`. This file format is considered legacy. We recommend using instead the native Keras format, e.g. `model.save('my_model.keras')`.\n",
      "  saving_api.save_model(\n"
     ]
    },
    {
     "name": "stdout",
     "output_type": "stream",
     "text": [
      "18/18 [==============================] - 0s 1ms/step - loss: 0.4395 - accuracy: 0.7914 - val_loss: 0.3318 - val_accuracy: 0.8817\n",
      "Epoch 9/1000\n",
      " 1/18 [>.............................] - ETA: 0s - loss: 0.3536 - accuracy: 0.8750\n",
      "Epoch 9: saving model to model/keypoint_classifier/keypoint_classifier.hdf5\n",
      "18/18 [==============================] - 0s 1ms/step - loss: 0.4395 - accuracy: 0.7986 - val_loss: 0.3204 - val_accuracy: 0.9247\n",
      "Epoch 10/1000\n",
      " 1/18 [>.............................] - ETA: 0s - loss: 0.4597 - accuracy: 0.8125\n",
      "Epoch 10: saving model to model/keypoint_classifier/keypoint_classifier.hdf5\n",
      "18/18 [==============================] - 0s 1ms/step - loss: 0.4090 - accuracy: 0.8381 - val_loss: 0.3051 - val_accuracy: 0.9032\n",
      "Epoch 11/1000\n",
      " 1/18 [>.............................] - ETA: 0s - loss: 0.5232 - accuracy: 0.7500\n",
      "Epoch 11: saving model to model/keypoint_classifier/keypoint_classifier.hdf5\n",
      "18/18 [==============================] - 0s 1ms/step - loss: 0.4056 - accuracy: 0.8345 - val_loss: 0.2891 - val_accuracy: 0.9032\n",
      "Epoch 12/1000\n",
      " 1/18 [>.............................] - ETA: 0s - loss: 0.2955 - accuracy: 0.8750\n",
      "Epoch 12: saving model to model/keypoint_classifier/keypoint_classifier.hdf5\n",
      "18/18 [==============================] - 0s 1ms/step - loss: 0.3940 - accuracy: 0.8381 - val_loss: 0.2748 - val_accuracy: 0.9032\n",
      "Epoch 13/1000\n",
      " 1/18 [>.............................] - ETA: 0s - loss: 0.2790 - accuracy: 0.8750\n",
      "Epoch 13: saving model to model/keypoint_classifier/keypoint_classifier.hdf5\n",
      "18/18 [==============================] - 0s 1ms/step - loss: 0.3493 - accuracy: 0.8561 - val_loss: 0.2611 - val_accuracy: 0.9355\n",
      "Epoch 14/1000\n",
      " 1/18 [>.............................] - ETA: 0s - loss: 0.6710 - accuracy: 0.5625\n",
      "Epoch 14: saving model to model/keypoint_classifier/keypoint_classifier.hdf5\n",
      "18/18 [==============================] - 0s 1ms/step - loss: 0.3717 - accuracy: 0.8381 - val_loss: 0.2504 - val_accuracy: 0.9462\n",
      "Epoch 15/1000\n",
      " 1/18 [>.............................] - ETA: 0s - loss: 0.4346 - accuracy: 0.8750\n",
      "Epoch 15: saving model to model/keypoint_classifier/keypoint_classifier.hdf5\n",
      "18/18 [==============================] - 0s 1ms/step - loss: 0.4044 - accuracy: 0.8309 - val_loss: 0.2426 - val_accuracy: 0.9570\n",
      "Epoch 16/1000\n",
      " 1/18 [>.............................] - ETA: 0s - loss: 0.7912 - accuracy: 0.7500\n",
      "Epoch 16: saving model to model/keypoint_classifier/keypoint_classifier.hdf5\n",
      "18/18 [==============================] - 0s 2ms/step - loss: 0.3814 - accuracy: 0.8633 - val_loss: 0.2358 - val_accuracy: 0.9355\n",
      "Epoch 17/1000\n",
      " 1/18 [>.............................] - ETA: 0s - loss: 0.2060 - accuracy: 1.0000\n",
      "Epoch 17: saving model to model/keypoint_classifier/keypoint_classifier.hdf5\n",
      "18/18 [==============================] - 0s 1ms/step - loss: 0.3540 - accuracy: 0.8669 - val_loss: 0.2313 - val_accuracy: 0.9247\n",
      "Epoch 18/1000\n",
      " 1/18 [>.............................] - ETA: 0s - loss: 0.7127 - accuracy: 0.6250\n",
      "Epoch 18: saving model to model/keypoint_classifier/keypoint_classifier.hdf5\n",
      "18/18 [==============================] - 0s 1ms/step - loss: 0.3349 - accuracy: 0.8597 - val_loss: 0.2172 - val_accuracy: 0.9462\n",
      "Epoch 19/1000\n",
      " 1/18 [>.............................] - ETA: 0s - loss: 0.3293 - accuracy: 0.8750\n",
      "Epoch 19: saving model to model/keypoint_classifier/keypoint_classifier.hdf5\n",
      "18/18 [==============================] - 0s 1ms/step - loss: 0.2926 - accuracy: 0.8993 - val_loss: 0.2164 - val_accuracy: 0.9247\n",
      "Epoch 20/1000\n",
      " 1/18 [>.............................] - ETA: 0s - loss: 0.3376 - accuracy: 0.7500\n",
      "Epoch 20: saving model to model/keypoint_classifier/keypoint_classifier.hdf5\n",
      "18/18 [==============================] - 0s 1ms/step - loss: 0.3575 - accuracy: 0.8273 - val_loss: 0.2163 - val_accuracy: 0.9032\n",
      "Epoch 21/1000\n",
      " 1/18 [>.............................] - ETA: 0s - loss: 0.4460 - accuracy: 0.7500\n",
      "Epoch 21: saving model to model/keypoint_classifier/keypoint_classifier.hdf5\n",
      "18/18 [==============================] - 0s 1ms/step - loss: 0.3418 - accuracy: 0.8597 - val_loss: 0.2106 - val_accuracy: 0.9462\n",
      "Epoch 22/1000\n",
      " 1/18 [>.............................] - ETA: 0s - loss: 0.3188 - accuracy: 0.8125\n",
      "Epoch 22: saving model to model/keypoint_classifier/keypoint_classifier.hdf5\n",
      "18/18 [==============================] - 0s 1ms/step - loss: 0.3524 - accuracy: 0.8525 - val_loss: 0.1993 - val_accuracy: 0.9462\n",
      "Epoch 23/1000\n",
      " 1/18 [>.............................] - ETA: 0s - loss: 0.2566 - accuracy: 0.9375\n",
      "Epoch 23: saving model to model/keypoint_classifier/keypoint_classifier.hdf5\n",
      "18/18 [==============================] - 0s 1ms/step - loss: 0.2760 - accuracy: 0.8921 - val_loss: 0.1939 - val_accuracy: 0.9570\n",
      "Epoch 24/1000\n",
      " 1/18 [>.............................] - ETA: 0s - loss: 0.1011 - accuracy: 1.0000\n",
      "Epoch 24: saving model to model/keypoint_classifier/keypoint_classifier.hdf5\n",
      "18/18 [==============================] - 0s 1ms/step - loss: 0.3098 - accuracy: 0.8813 - val_loss: 0.1856 - val_accuracy: 0.9570\n",
      "Epoch 25/1000\n",
      " 1/18 [>.............................] - ETA: 0s - loss: 0.1379 - accuracy: 1.0000\n",
      "Epoch 25: saving model to model/keypoint_classifier/keypoint_classifier.hdf5\n",
      "18/18 [==============================] - 0s 1ms/step - loss: 0.3236 - accuracy: 0.8849 - val_loss: 0.1808 - val_accuracy: 0.9570\n",
      "Epoch 26/1000\n",
      " 1/18 [>.............................] - ETA: 0s - loss: 0.3831 - accuracy: 0.7500\n",
      "Epoch 26: saving model to model/keypoint_classifier/keypoint_classifier.hdf5\n",
      "18/18 [==============================] - 0s 1ms/step - loss: 0.2901 - accuracy: 0.8741 - val_loss: 0.1866 - val_accuracy: 0.9462\n",
      "Epoch 27/1000\n",
      " 1/18 [>.............................] - ETA: 0s - loss: 0.2004 - accuracy: 1.0000\n",
      "Epoch 27: saving model to model/keypoint_classifier/keypoint_classifier.hdf5\n",
      "18/18 [==============================] - 0s 1ms/step - loss: 0.2426 - accuracy: 0.9137 - val_loss: 0.1816 - val_accuracy: 0.9570\n",
      "Epoch 28/1000\n",
      " 1/18 [>.............................] - ETA: 0s - loss: 0.2103 - accuracy: 0.9375\n",
      "Epoch 28: saving model to model/keypoint_classifier/keypoint_classifier.hdf5\n",
      "18/18 [==============================] - 0s 1ms/step - loss: 0.2860 - accuracy: 0.8849 - val_loss: 0.1807 - val_accuracy: 0.9570\n",
      "Epoch 29/1000\n",
      " 1/18 [>.............................] - ETA: 0s - loss: 0.1490 - accuracy: 0.9375\n",
      "Epoch 29: saving model to model/keypoint_classifier/keypoint_classifier.hdf5\n",
      "18/18 [==============================] - 0s 1ms/step - loss: 0.2745 - accuracy: 0.8885 - val_loss: 0.1710 - val_accuracy: 0.9570\n",
      "Epoch 30/1000\n",
      " 1/18 [>.............................] - ETA: 0s - loss: 0.3370 - accuracy: 0.8750\n",
      "Epoch 30: saving model to model/keypoint_classifier/keypoint_classifier.hdf5\n",
      "18/18 [==============================] - 0s 1ms/step - loss: 0.3305 - accuracy: 0.8813 - val_loss: 0.1785 - val_accuracy: 0.9570\n",
      "Epoch 31/1000\n",
      " 1/18 [>.............................] - ETA: 0s - loss: 0.4657 - accuracy: 0.9375\n",
      "Epoch 31: saving model to model/keypoint_classifier/keypoint_classifier.hdf5\n",
      "18/18 [==============================] - 0s 1ms/step - loss: 0.2958 - accuracy: 0.8993 - val_loss: 0.1812 - val_accuracy: 0.9570\n",
      "Epoch 32/1000\n",
      " 1/18 [>.............................] - ETA: 0s - loss: 0.2238 - accuracy: 0.9375\n",
      "Epoch 32: saving model to model/keypoint_classifier/keypoint_classifier.hdf5\n",
      "18/18 [==============================] - 0s 1ms/step - loss: 0.2539 - accuracy: 0.8993 - val_loss: 0.1689 - val_accuracy: 0.9570\n",
      "Epoch 33/1000\n",
      " 1/18 [>.............................] - ETA: 0s - loss: 0.3140 - accuracy: 0.8750\n",
      "Epoch 33: saving model to model/keypoint_classifier/keypoint_classifier.hdf5\n",
      "18/18 [==============================] - 0s 1ms/step - loss: 0.2695 - accuracy: 0.8849 - val_loss: 0.1614 - val_accuracy: 0.9570\n",
      "Epoch 34/1000\n",
      " 1/18 [>.............................] - ETA: 0s - loss: 0.3601 - accuracy: 0.8125\n",
      "Epoch 34: saving model to model/keypoint_classifier/keypoint_classifier.hdf5\n",
      "18/18 [==============================] - 0s 1ms/step - loss: 0.2374 - accuracy: 0.9209 - val_loss: 0.1649 - val_accuracy: 0.9570\n",
      "Epoch 35/1000\n",
      " 1/18 [>.............................] - ETA: 0s - loss: 0.3320 - accuracy: 0.7500\n",
      "Epoch 35: saving model to model/keypoint_classifier/keypoint_classifier.hdf5\n",
      "18/18 [==============================] - 0s 1ms/step - loss: 0.2537 - accuracy: 0.8993 - val_loss: 0.1655 - val_accuracy: 0.9677\n",
      "Epoch 36/1000\n",
      " 1/18 [>.............................] - ETA: 0s - loss: 0.2511 - accuracy: 0.8750\n",
      "Epoch 36: saving model to model/keypoint_classifier/keypoint_classifier.hdf5\n",
      "18/18 [==============================] - 0s 1ms/step - loss: 0.2426 - accuracy: 0.9137 - val_loss: 0.1570 - val_accuracy: 0.9677\n",
      "Epoch 37/1000\n",
      " 1/18 [>.............................] - ETA: 0s - loss: 0.2534 - accuracy: 0.8750\n",
      "Epoch 37: saving model to model/keypoint_classifier/keypoint_classifier.hdf5\n",
      "18/18 [==============================] - 0s 1ms/step - loss: 0.2625 - accuracy: 0.8885 - val_loss: 0.1590 - val_accuracy: 0.9570\n",
      "Epoch 38/1000\n",
      " 1/18 [>.............................] - ETA: 0s - loss: 0.3220 - accuracy: 0.8750\n",
      "Epoch 38: saving model to model/keypoint_classifier/keypoint_classifier.hdf5\n",
      "18/18 [==============================] - 0s 1ms/step - loss: 0.2783 - accuracy: 0.8741 - val_loss: 0.1610 - val_accuracy: 0.9570\n",
      "Epoch 39/1000\n",
      " 1/18 [>.............................] - ETA: 0s - loss: 0.3391 - accuracy: 0.8125\n",
      "Epoch 39: saving model to model/keypoint_classifier/keypoint_classifier.hdf5\n",
      "18/18 [==============================] - 0s 1ms/step - loss: 0.2921 - accuracy: 0.8741 - val_loss: 0.1724 - val_accuracy: 0.9570\n",
      "Epoch 40/1000\n",
      " 1/18 [>.............................] - ETA: 0s - loss: 0.4261 - accuracy: 0.7500\n",
      "Epoch 40: saving model to model/keypoint_classifier/keypoint_classifier.hdf5\n",
      "18/18 [==============================] - 0s 1ms/step - loss: 0.3052 - accuracy: 0.8669 - val_loss: 0.1720 - val_accuracy: 0.9570\n",
      "Epoch 41/1000\n",
      " 1/18 [>.............................] - ETA: 0s - loss: 0.1990 - accuracy: 0.9375\n",
      "Epoch 41: saving model to model/keypoint_classifier/keypoint_classifier.hdf5\n",
      "18/18 [==============================] - 0s 1ms/step - loss: 0.2864 - accuracy: 0.8849 - val_loss: 0.1670 - val_accuracy: 0.9570\n",
      "Epoch 42/1000\n",
      " 1/18 [>.............................] - ETA: 0s - loss: 0.2138 - accuracy: 0.9375\n",
      "Epoch 42: saving model to model/keypoint_classifier/keypoint_classifier.hdf5\n",
      "18/18 [==============================] - 0s 1ms/step - loss: 0.2603 - accuracy: 0.8921 - val_loss: 0.1734 - val_accuracy: 0.9570\n",
      "Epoch 43/1000\n",
      " 1/18 [>.............................] - ETA: 0s - loss: 0.2449 - accuracy: 0.8750\n",
      "Epoch 43: saving model to model/keypoint_classifier/keypoint_classifier.hdf5\n",
      "18/18 [==============================] - 0s 1ms/step - loss: 0.2630 - accuracy: 0.9029 - val_loss: 0.1575 - val_accuracy: 0.9570\n",
      "Epoch 44/1000\n",
      " 1/18 [>.............................] - ETA: 0s - loss: 0.6198 - accuracy: 0.8125\n",
      "Epoch 44: saving model to model/keypoint_classifier/keypoint_classifier.hdf5\n",
      "18/18 [==============================] - 0s 1ms/step - loss: 0.2290 - accuracy: 0.9245 - val_loss: 0.1491 - val_accuracy: 0.9677\n",
      "Epoch 45/1000\n",
      " 1/18 [>.............................] - ETA: 0s - loss: 0.3026 - accuracy: 0.8750\n",
      "Epoch 45: saving model to model/keypoint_classifier/keypoint_classifier.hdf5\n",
      "18/18 [==============================] - 0s 1ms/step - loss: 0.2218 - accuracy: 0.9137 - val_loss: 0.1510 - val_accuracy: 0.9677\n",
      "Epoch 46/1000\n",
      " 1/18 [>.............................] - ETA: 0s - loss: 0.6816 - accuracy: 0.6250\n",
      "Epoch 46: saving model to model/keypoint_classifier/keypoint_classifier.hdf5\n",
      "18/18 [==============================] - 0s 1ms/step - loss: 0.2284 - accuracy: 0.9029 - val_loss: 0.1603 - val_accuracy: 0.9570\n",
      "Epoch 47/1000\n",
      " 1/18 [>.............................] - ETA: 0s - loss: 0.4266 - accuracy: 0.9375\n",
      "Epoch 47: saving model to model/keypoint_classifier/keypoint_classifier.hdf5\n",
      "18/18 [==============================] - 0s 2ms/step - loss: 0.2577 - accuracy: 0.9173 - val_loss: 0.1546 - val_accuracy: 0.9677\n",
      "Epoch 48/1000\n",
      " 1/18 [>.............................] - ETA: 0s - loss: 0.1969 - accuracy: 0.9375\n",
      "Epoch 48: saving model to model/keypoint_classifier/keypoint_classifier.hdf5\n",
      "18/18 [==============================] - 0s 2ms/step - loss: 0.2163 - accuracy: 0.9281 - val_loss: 0.1588 - val_accuracy: 0.9677\n",
      "Epoch 49/1000\n",
      " 1/18 [>.............................] - ETA: 0s - loss: 0.1727 - accuracy: 0.8750\n",
      "Epoch 49: saving model to model/keypoint_classifier/keypoint_classifier.hdf5\n",
      "18/18 [==============================] - 0s 1ms/step - loss: 0.2388 - accuracy: 0.8993 - val_loss: 0.1521 - val_accuracy: 0.9677\n",
      "Epoch 50/1000\n",
      " 1/18 [>.............................] - ETA: 0s - loss: 0.3122 - accuracy: 0.8125\n",
      "Epoch 50: saving model to model/keypoint_classifier/keypoint_classifier.hdf5\n",
      "18/18 [==============================] - 0s 1ms/step - loss: 0.2460 - accuracy: 0.9029 - val_loss: 0.1569 - val_accuracy: 0.9570\n",
      "Epoch 51/1000\n",
      " 1/18 [>.............................] - ETA: 0s - loss: 0.2915 - accuracy: 0.8750\n",
      "Epoch 51: saving model to model/keypoint_classifier/keypoint_classifier.hdf5\n",
      "18/18 [==============================] - 0s 1ms/step - loss: 0.2111 - accuracy: 0.9065 - val_loss: 0.1593 - val_accuracy: 0.9570\n",
      "Epoch 52/1000\n",
      " 1/18 [>.............................] - ETA: 0s - loss: 0.3411 - accuracy: 0.8125\n",
      "Epoch 52: saving model to model/keypoint_classifier/keypoint_classifier.hdf5\n",
      "18/18 [==============================] - 0s 1ms/step - loss: 0.2400 - accuracy: 0.9173 - val_loss: 0.1477 - val_accuracy: 0.9677\n",
      "Epoch 53/1000\n",
      " 1/18 [>.............................] - ETA: 0s - loss: 0.2607 - accuracy: 0.9375\n",
      "Epoch 53: saving model to model/keypoint_classifier/keypoint_classifier.hdf5\n",
      "18/18 [==============================] - 0s 1ms/step - loss: 0.2342 - accuracy: 0.9101 - val_loss: 0.1476 - val_accuracy: 0.9677\n",
      "Epoch 54/1000\n",
      " 1/18 [>.............................] - ETA: 0s - loss: 0.2729 - accuracy: 0.8750\n",
      "Epoch 54: saving model to model/keypoint_classifier/keypoint_classifier.hdf5\n",
      "18/18 [==============================] - 0s 1ms/step - loss: 0.2645 - accuracy: 0.9029 - val_loss: 0.1421 - val_accuracy: 0.9677\n",
      "Epoch 55/1000\n",
      " 1/18 [>.............................] - ETA: 0s - loss: 0.0963 - accuracy: 1.0000\n",
      "Epoch 55: saving model to model/keypoint_classifier/keypoint_classifier.hdf5\n",
      "18/18 [==============================] - 0s 1ms/step - loss: 0.2340 - accuracy: 0.9245 - val_loss: 0.1412 - val_accuracy: 0.9677\n",
      "Epoch 56/1000\n",
      " 1/18 [>.............................] - ETA: 0s - loss: 0.2662 - accuracy: 0.9375\n",
      "Epoch 56: saving model to model/keypoint_classifier/keypoint_classifier.hdf5\n",
      "18/18 [==============================] - 0s 1ms/step - loss: 0.2472 - accuracy: 0.9137 - val_loss: 0.1400 - val_accuracy: 0.9677\n",
      "Epoch 57/1000\n",
      " 1/18 [>.............................] - ETA: 0s - loss: 0.1410 - accuracy: 0.9375\n",
      "Epoch 57: saving model to model/keypoint_classifier/keypoint_classifier.hdf5\n",
      "18/18 [==============================] - 0s 1ms/step - loss: 0.1966 - accuracy: 0.9209 - val_loss: 0.1498 - val_accuracy: 0.9570\n",
      "Epoch 58/1000\n",
      " 1/18 [>.............................] - ETA: 0s - loss: 0.2103 - accuracy: 0.9375\n",
      "Epoch 58: saving model to model/keypoint_classifier/keypoint_classifier.hdf5\n",
      "18/18 [==============================] - 0s 1ms/step - loss: 0.2243 - accuracy: 0.9137 - val_loss: 0.1576 - val_accuracy: 0.9570\n",
      "Epoch 59/1000\n",
      " 1/18 [>.............................] - ETA: 0s - loss: 0.0710 - accuracy: 1.0000\n",
      "Epoch 59: saving model to model/keypoint_classifier/keypoint_classifier.hdf5\n",
      "18/18 [==============================] - 0s 1ms/step - loss: 0.2530 - accuracy: 0.9065 - val_loss: 0.1483 - val_accuracy: 0.9570\n",
      "Epoch 60/1000\n",
      " 1/18 [>.............................] - ETA: 0s - loss: 0.4712 - accuracy: 0.8125\n",
      "Epoch 60: saving model to model/keypoint_classifier/keypoint_classifier.hdf5\n",
      "18/18 [==============================] - 0s 1ms/step - loss: 0.2378 - accuracy: 0.8921 - val_loss: 0.1421 - val_accuracy: 0.9570\n",
      "Epoch 61/1000\n",
      " 1/18 [>.............................] - ETA: 0s - loss: 0.1650 - accuracy: 1.0000\n",
      "Epoch 61: saving model to model/keypoint_classifier/keypoint_classifier.hdf5\n",
      "18/18 [==============================] - 0s 1ms/step - loss: 0.1970 - accuracy: 0.9424 - val_loss: 0.1442 - val_accuracy: 0.9570\n",
      "Epoch 62/1000\n",
      " 1/18 [>.............................] - ETA: 0s - loss: 0.0626 - accuracy: 1.0000\n",
      "Epoch 62: saving model to model/keypoint_classifier/keypoint_classifier.hdf5\n",
      "18/18 [==============================] - 0s 1ms/step - loss: 0.2374 - accuracy: 0.8921 - val_loss: 0.1440 - val_accuracy: 0.9570\n",
      "Epoch 63/1000\n",
      " 1/18 [>.............................] - ETA: 0s - loss: 0.3323 - accuracy: 0.8125\n",
      "Epoch 63: saving model to model/keypoint_classifier/keypoint_classifier.hdf5\n",
      "18/18 [==============================] - 0s 1ms/step - loss: 0.2025 - accuracy: 0.9173 - val_loss: 0.1403 - val_accuracy: 0.9570\n",
      "Epoch 64/1000\n",
      " 1/18 [>.............................] - ETA: 0s - loss: 0.1343 - accuracy: 0.9375\n",
      "Epoch 64: saving model to model/keypoint_classifier/keypoint_classifier.hdf5\n",
      "18/18 [==============================] - 0s 1ms/step - loss: 0.2174 - accuracy: 0.9388 - val_loss: 0.1399 - val_accuracy: 0.9570\n",
      "Epoch 65/1000\n",
      " 1/18 [>.............................] - ETA: 0s - loss: 0.3543 - accuracy: 0.8125\n",
      "Epoch 65: saving model to model/keypoint_classifier/keypoint_classifier.hdf5\n",
      "18/18 [==============================] - 0s 1ms/step - loss: 0.1994 - accuracy: 0.9209 - val_loss: 0.1392 - val_accuracy: 0.9677\n",
      "Epoch 66/1000\n",
      " 1/18 [>.............................] - ETA: 0s - loss: 0.2221 - accuracy: 0.9375\n",
      "Epoch 66: saving model to model/keypoint_classifier/keypoint_classifier.hdf5\n",
      "18/18 [==============================] - 0s 1ms/step - loss: 0.2185 - accuracy: 0.9245 - val_loss: 0.1360 - val_accuracy: 0.9677\n",
      "Epoch 67/1000\n",
      " 1/18 [>.............................] - ETA: 0s - loss: 0.0570 - accuracy: 1.0000\n",
      "Epoch 67: saving model to model/keypoint_classifier/keypoint_classifier.hdf5\n",
      "18/18 [==============================] - 0s 1ms/step - loss: 0.1947 - accuracy: 0.9388 - val_loss: 0.1287 - val_accuracy: 0.9677\n",
      "Epoch 68/1000\n",
      " 1/18 [>.............................] - ETA: 0s - loss: 0.1062 - accuracy: 1.0000\n",
      "Epoch 68: saving model to model/keypoint_classifier/keypoint_classifier.hdf5\n",
      "18/18 [==============================] - 0s 1ms/step - loss: 0.2069 - accuracy: 0.9173 - val_loss: 0.1358 - val_accuracy: 0.9570\n",
      "Epoch 69/1000\n",
      " 1/18 [>.............................] - ETA: 0s - loss: 0.1196 - accuracy: 0.9375\n",
      "Epoch 69: saving model to model/keypoint_classifier/keypoint_classifier.hdf5\n",
      "18/18 [==============================] - 0s 1ms/step - loss: 0.1912 - accuracy: 0.9137 - val_loss: 0.1396 - val_accuracy: 0.9570\n",
      "Epoch 70/1000\n",
      " 1/18 [>.............................] - ETA: 0s - loss: 0.0896 - accuracy: 0.9375\n",
      "Epoch 70: saving model to model/keypoint_classifier/keypoint_classifier.hdf5\n",
      "18/18 [==============================] - 0s 1ms/step - loss: 0.2207 - accuracy: 0.9353 - val_loss: 0.1362 - val_accuracy: 0.9677\n",
      "Epoch 71/1000\n",
      " 1/18 [>.............................] - ETA: 0s - loss: 0.0708 - accuracy: 0.9375\n",
      "Epoch 71: saving model to model/keypoint_classifier/keypoint_classifier.hdf5\n",
      "18/18 [==============================] - 0s 1ms/step - loss: 0.1600 - accuracy: 0.9424 - val_loss: 0.1349 - val_accuracy: 0.9570\n",
      "Epoch 72/1000\n",
      " 1/18 [>.............................] - ETA: 0s - loss: 0.2881 - accuracy: 0.8125\n",
      "Epoch 72: saving model to model/keypoint_classifier/keypoint_classifier.hdf5\n",
      "18/18 [==============================] - 0s 1ms/step - loss: 0.1909 - accuracy: 0.9209 - val_loss: 0.1436 - val_accuracy: 0.9570\n",
      "Epoch 73/1000\n",
      " 1/18 [>.............................] - ETA: 0s - loss: 0.1177 - accuracy: 0.9375\n",
      "Epoch 73: saving model to model/keypoint_classifier/keypoint_classifier.hdf5\n",
      "18/18 [==============================] - 0s 1ms/step - loss: 0.1888 - accuracy: 0.9317 - val_loss: 0.1341 - val_accuracy: 0.9677\n",
      "Epoch 74/1000\n",
      " 1/18 [>.............................] - ETA: 0s - loss: 0.0449 - accuracy: 1.0000\n",
      "Epoch 74: saving model to model/keypoint_classifier/keypoint_classifier.hdf5\n",
      "18/18 [==============================] - 0s 2ms/step - loss: 0.2555 - accuracy: 0.9101 - val_loss: 0.1335 - val_accuracy: 0.9677\n",
      "Epoch 75/1000\n",
      " 1/18 [>.............................] - ETA: 0s - loss: 0.3474 - accuracy: 0.8750\n",
      "Epoch 75: saving model to model/keypoint_classifier/keypoint_classifier.hdf5\n",
      "18/18 [==============================] - 0s 1ms/step - loss: 0.1890 - accuracy: 0.9424 - val_loss: 0.1316 - val_accuracy: 0.9677\n",
      "Epoch 76/1000\n",
      " 1/18 [>.............................] - ETA: 0s - loss: 0.0951 - accuracy: 1.0000\n",
      "Epoch 76: saving model to model/keypoint_classifier/keypoint_classifier.hdf5\n",
      "18/18 [==============================] - 0s 1ms/step - loss: 0.1814 - accuracy: 0.9353 - val_loss: 0.1385 - val_accuracy: 0.9570\n",
      "Epoch 77/1000\n",
      " 1/18 [>.............................] - ETA: 0s - loss: 0.1512 - accuracy: 0.9375\n",
      "Epoch 77: saving model to model/keypoint_classifier/keypoint_classifier.hdf5\n",
      "18/18 [==============================] - 0s 1ms/step - loss: 0.1777 - accuracy: 0.9353 - val_loss: 0.1268 - val_accuracy: 0.9570\n",
      "Epoch 78/1000\n",
      " 1/18 [>.............................] - ETA: 0s - loss: 0.1546 - accuracy: 0.9375\n",
      "Epoch 78: saving model to model/keypoint_classifier/keypoint_classifier.hdf5\n",
      "18/18 [==============================] - 0s 1ms/step - loss: 0.2577 - accuracy: 0.9209 - val_loss: 0.1290 - val_accuracy: 0.9677\n",
      "Epoch 79/1000\n",
      " 1/18 [>.............................] - ETA: 0s - loss: 0.1073 - accuracy: 0.9375\n",
      "Epoch 79: saving model to model/keypoint_classifier/keypoint_classifier.hdf5\n",
      "18/18 [==============================] - 0s 1ms/step - loss: 0.2100 - accuracy: 0.9065 - val_loss: 0.1412 - val_accuracy: 0.9677\n",
      "Epoch 80/1000\n",
      " 1/18 [>.............................] - ETA: 0s - loss: 0.1856 - accuracy: 1.0000\n",
      "Epoch 80: saving model to model/keypoint_classifier/keypoint_classifier.hdf5\n",
      "18/18 [==============================] - 0s 1ms/step - loss: 0.2703 - accuracy: 0.9029 - val_loss: 0.1409 - val_accuracy: 0.9570\n",
      "Epoch 81/1000\n",
      " 1/18 [>.............................] - ETA: 0s - loss: 0.1487 - accuracy: 0.8750\n",
      "Epoch 81: saving model to model/keypoint_classifier/keypoint_classifier.hdf5\n",
      "18/18 [==============================] - 0s 1ms/step - loss: 0.1999 - accuracy: 0.9173 - val_loss: 0.1338 - val_accuracy: 0.9677\n",
      "Epoch 82/1000\n",
      " 1/18 [>.............................] - ETA: 0s - loss: 0.2362 - accuracy: 0.8750\n",
      "Epoch 82: saving model to model/keypoint_classifier/keypoint_classifier.hdf5\n",
      "18/18 [==============================] - 0s 1ms/step - loss: 0.1842 - accuracy: 0.9424 - val_loss: 0.1344 - val_accuracy: 0.9677\n",
      "Epoch 83/1000\n",
      " 1/18 [>.............................] - ETA: 0s - loss: 0.1053 - accuracy: 1.0000\n",
      "Epoch 83: saving model to model/keypoint_classifier/keypoint_classifier.hdf5\n",
      "18/18 [==============================] - 0s 1ms/step - loss: 0.1909 - accuracy: 0.9281 - val_loss: 0.1325 - val_accuracy: 0.9677\n",
      "Epoch 84/1000\n",
      " 1/18 [>.............................] - ETA: 0s - loss: 0.2103 - accuracy: 0.8125\n",
      "Epoch 84: saving model to model/keypoint_classifier/keypoint_classifier.hdf5\n",
      "18/18 [==============================] - 0s 1ms/step - loss: 0.2042 - accuracy: 0.9101 - val_loss: 0.1415 - val_accuracy: 0.9570\n",
      "Epoch 85/1000\n",
      " 1/18 [>.............................] - ETA: 0s - loss: 0.3067 - accuracy: 0.8125\n",
      "Epoch 85: saving model to model/keypoint_classifier/keypoint_classifier.hdf5\n",
      "18/18 [==============================] - 0s 1ms/step - loss: 0.2265 - accuracy: 0.9029 - val_loss: 0.1347 - val_accuracy: 0.9677\n",
      "Epoch 86/1000\n",
      " 1/18 [>.............................] - ETA: 0s - loss: 0.4109 - accuracy: 0.8750\n",
      "Epoch 86: saving model to model/keypoint_classifier/keypoint_classifier.hdf5\n",
      "18/18 [==============================] - 0s 1ms/step - loss: 0.1929 - accuracy: 0.9317 - val_loss: 0.1344 - val_accuracy: 0.9677\n",
      "Epoch 87/1000\n",
      " 1/18 [>.............................] - ETA: 0s - loss: 0.2004 - accuracy: 0.8750\n",
      "Epoch 87: saving model to model/keypoint_classifier/keypoint_classifier.hdf5\n",
      "18/18 [==============================] - 0s 1ms/step - loss: 0.2059 - accuracy: 0.9137 - val_loss: 0.1311 - val_accuracy: 0.9677\n",
      "Epoch 88/1000\n",
      " 1/18 [>.............................] - ETA: 0s - loss: 0.2887 - accuracy: 0.7500\n",
      "Epoch 88: saving model to model/keypoint_classifier/keypoint_classifier.hdf5\n",
      "18/18 [==============================] - 0s 1ms/step - loss: 0.1729 - accuracy: 0.9317 - val_loss: 0.1296 - val_accuracy: 0.9570\n",
      "Epoch 89/1000\n",
      " 1/18 [>.............................] - ETA: 0s - loss: 0.0468 - accuracy: 1.0000\n",
      "Epoch 89: saving model to model/keypoint_classifier/keypoint_classifier.hdf5\n",
      "18/18 [==============================] - 0s 1ms/step - loss: 0.1856 - accuracy: 0.9532 - val_loss: 0.1373 - val_accuracy: 0.9570\n",
      "Epoch 90/1000\n",
      " 1/18 [>.............................] - ETA: 0s - loss: 0.0904 - accuracy: 1.0000\n",
      "Epoch 90: saving model to model/keypoint_classifier/keypoint_classifier.hdf5\n",
      "18/18 [==============================] - 0s 1ms/step - loss: 0.1986 - accuracy: 0.9353 - val_loss: 0.1330 - val_accuracy: 0.9677\n",
      "Epoch 91/1000\n",
      " 1/18 [>.............................] - ETA: 0s - loss: 0.2074 - accuracy: 0.9375\n",
      "Epoch 91: saving model to model/keypoint_classifier/keypoint_classifier.hdf5\n",
      "18/18 [==============================] - 0s 2ms/step - loss: 0.2096 - accuracy: 0.9317 - val_loss: 0.1310 - val_accuracy: 0.9677\n",
      "Epoch 92/1000\n",
      " 1/18 [>.............................] - ETA: 0s - loss: 0.0528 - accuracy: 1.0000\n",
      "Epoch 92: saving model to model/keypoint_classifier/keypoint_classifier.hdf5\n",
      "18/18 [==============================] - 0s 2ms/step - loss: 0.1748 - accuracy: 0.9424 - val_loss: 0.1309 - val_accuracy: 0.9677\n",
      "Epoch 93/1000\n",
      " 1/18 [>.............................] - ETA: 0s - loss: 0.0703 - accuracy: 0.9375\n",
      "Epoch 93: saving model to model/keypoint_classifier/keypoint_classifier.hdf5\n",
      "18/18 [==============================] - 0s 1ms/step - loss: 0.1873 - accuracy: 0.9353 - val_loss: 0.1255 - val_accuracy: 0.9677\n",
      "Epoch 94/1000\n",
      " 1/18 [>.............................] - ETA: 0s - loss: 0.0882 - accuracy: 1.0000\n",
      "Epoch 94: saving model to model/keypoint_classifier/keypoint_classifier.hdf5\n",
      "18/18 [==============================] - 0s 1ms/step - loss: 0.2227 - accuracy: 0.9173 - val_loss: 0.1298 - val_accuracy: 0.9570\n",
      "Epoch 95/1000\n",
      " 1/18 [>.............................] - ETA: 0s - loss: 0.0830 - accuracy: 1.0000\n",
      "Epoch 95: saving model to model/keypoint_classifier/keypoint_classifier.hdf5\n",
      "18/18 [==============================] - 0s 1ms/step - loss: 0.1833 - accuracy: 0.9424 - val_loss: 0.1345 - val_accuracy: 0.9570\n",
      "Epoch 96/1000\n",
      " 1/18 [>.............................] - ETA: 0s - loss: 0.1599 - accuracy: 0.9375\n",
      "Epoch 96: saving model to model/keypoint_classifier/keypoint_classifier.hdf5\n",
      "18/18 [==============================] - 0s 1ms/step - loss: 0.1441 - accuracy: 0.9640 - val_loss: 0.1238 - val_accuracy: 0.9570\n",
      "Epoch 97/1000\n",
      " 1/18 [>.............................] - ETA: 0s - loss: 0.1555 - accuracy: 0.9375\n",
      "Epoch 97: saving model to model/keypoint_classifier/keypoint_classifier.hdf5\n",
      "18/18 [==============================] - 0s 1ms/step - loss: 0.1875 - accuracy: 0.9388 - val_loss: 0.1184 - val_accuracy: 0.9677\n",
      "Epoch 98/1000\n",
      " 1/18 [>.............................] - ETA: 0s - loss: 0.4428 - accuracy: 0.9375\n",
      "Epoch 98: saving model to model/keypoint_classifier/keypoint_classifier.hdf5\n",
      "18/18 [==============================] - 0s 1ms/step - loss: 0.2073 - accuracy: 0.9353 - val_loss: 0.1203 - val_accuracy: 0.9677\n",
      "Epoch 99/1000\n",
      " 1/18 [>.............................] - ETA: 0s - loss: 0.1337 - accuracy: 0.9375\n",
      "Epoch 99: saving model to model/keypoint_classifier/keypoint_classifier.hdf5\n",
      "18/18 [==============================] - 0s 1ms/step - loss: 0.1990 - accuracy: 0.9388 - val_loss: 0.1195 - val_accuracy: 0.9677\n",
      "Epoch 100/1000\n",
      " 1/18 [>.............................] - ETA: 0s - loss: 0.0712 - accuracy: 1.0000\n",
      "Epoch 100: saving model to model/keypoint_classifier/keypoint_classifier.hdf5\n",
      "18/18 [==============================] - 0s 1ms/step - loss: 0.1600 - accuracy: 0.9496 - val_loss: 0.1115 - val_accuracy: 0.9677\n",
      "Epoch 101/1000\n",
      " 1/18 [>.............................] - ETA: 0s - loss: 0.2844 - accuracy: 0.8750\n",
      "Epoch 101: saving model to model/keypoint_classifier/keypoint_classifier.hdf5\n",
      "18/18 [==============================] - 0s 1ms/step - loss: 0.1576 - accuracy: 0.9281 - val_loss: 0.1175 - val_accuracy: 0.9677\n",
      "Epoch 102/1000\n",
      " 1/18 [>.............................] - ETA: 0s - loss: 0.0172 - accuracy: 1.0000\n",
      "Epoch 102: saving model to model/keypoint_classifier/keypoint_classifier.hdf5\n",
      "18/18 [==============================] - 0s 1ms/step - loss: 0.1772 - accuracy: 0.9424 - val_loss: 0.1278 - val_accuracy: 0.9677\n",
      "Epoch 103/1000\n",
      " 1/18 [>.............................] - ETA: 0s - loss: 0.1266 - accuracy: 1.0000\n",
      "Epoch 103: saving model to model/keypoint_classifier/keypoint_classifier.hdf5\n",
      "18/18 [==============================] - 0s 1ms/step - loss: 0.2106 - accuracy: 0.9353 - val_loss: 0.1315 - val_accuracy: 0.9677\n",
      "Epoch 104/1000\n",
      " 1/18 [>.............................] - ETA: 0s - loss: 0.0708 - accuracy: 1.0000\n",
      "Epoch 104: saving model to model/keypoint_classifier/keypoint_classifier.hdf5\n",
      "18/18 [==============================] - 0s 1ms/step - loss: 0.1966 - accuracy: 0.9317 - val_loss: 0.1280 - val_accuracy: 0.9570\n",
      "Epoch 105/1000\n",
      " 1/18 [>.............................] - ETA: 0s - loss: 0.0311 - accuracy: 1.0000\n",
      "Epoch 105: saving model to model/keypoint_classifier/keypoint_classifier.hdf5\n",
      "18/18 [==============================] - 0s 1ms/step - loss: 0.1964 - accuracy: 0.9173 - val_loss: 0.1281 - val_accuracy: 0.9570\n",
      "Epoch 106/1000\n",
      " 1/18 [>.............................] - ETA: 0s - loss: 0.0496 - accuracy: 1.0000\n",
      "Epoch 106: saving model to model/keypoint_classifier/keypoint_classifier.hdf5\n",
      "18/18 [==============================] - 0s 1ms/step - loss: 0.1531 - accuracy: 0.9496 - val_loss: 0.1404 - val_accuracy: 0.9570\n",
      "Epoch 107/1000\n",
      " 1/18 [>.............................] - ETA: 0s - loss: 0.0498 - accuracy: 1.0000\n",
      "Epoch 107: saving model to model/keypoint_classifier/keypoint_classifier.hdf5\n",
      "18/18 [==============================] - 0s 1ms/step - loss: 0.1819 - accuracy: 0.9317 - val_loss: 0.1297 - val_accuracy: 0.9570\n",
      "Epoch 108/1000\n",
      " 1/18 [>.............................] - ETA: 0s - loss: 0.1667 - accuracy: 0.9375\n",
      "Epoch 108: saving model to model/keypoint_classifier/keypoint_classifier.hdf5\n",
      "18/18 [==============================] - 0s 1ms/step - loss: 0.1647 - accuracy: 0.9424 - val_loss: 0.1264 - val_accuracy: 0.9570\n",
      "Epoch 109/1000\n",
      " 1/18 [>.............................] - ETA: 0s - loss: 0.6959 - accuracy: 0.7500\n",
      "Epoch 109: saving model to model/keypoint_classifier/keypoint_classifier.hdf5\n",
      "18/18 [==============================] - 0s 1ms/step - loss: 0.1844 - accuracy: 0.9496 - val_loss: 0.1319 - val_accuracy: 0.9570\n",
      "Epoch 110/1000\n",
      " 1/18 [>.............................] - ETA: 0s - loss: 0.1264 - accuracy: 0.9375\n",
      "Epoch 110: saving model to model/keypoint_classifier/keypoint_classifier.hdf5\n",
      "18/18 [==============================] - 0s 1ms/step - loss: 0.1808 - accuracy: 0.9281 - val_loss: 0.1441 - val_accuracy: 0.9570\n",
      "Epoch 111/1000\n",
      " 1/18 [>.............................] - ETA: 0s - loss: 0.2283 - accuracy: 0.8750\n",
      "Epoch 111: saving model to model/keypoint_classifier/keypoint_classifier.hdf5\n",
      "18/18 [==============================] - 0s 1ms/step - loss: 0.2251 - accuracy: 0.9245 - val_loss: 0.1264 - val_accuracy: 0.9677\n",
      "Epoch 112/1000\n",
      " 1/18 [>.............................] - ETA: 0s - loss: 0.0836 - accuracy: 0.9375\n",
      "Epoch 112: saving model to model/keypoint_classifier/keypoint_classifier.hdf5\n",
      "18/18 [==============================] - 0s 1ms/step - loss: 0.1746 - accuracy: 0.9317 - val_loss: 0.1193 - val_accuracy: 0.9677\n",
      "Epoch 113/1000\n",
      " 1/18 [>.............................] - ETA: 0s - loss: 0.2798 - accuracy: 0.8750\n",
      "Epoch 113: saving model to model/keypoint_classifier/keypoint_classifier.hdf5\n",
      "18/18 [==============================] - 0s 1ms/step - loss: 0.1668 - accuracy: 0.9424 - val_loss: 0.1162 - val_accuracy: 0.9677\n",
      "Epoch 114/1000\n",
      " 1/18 [>.............................] - ETA: 0s - loss: 0.0732 - accuracy: 1.0000\n",
      "Epoch 114: saving model to model/keypoint_classifier/keypoint_classifier.hdf5\n",
      "18/18 [==============================] - 0s 1ms/step - loss: 0.2309 - accuracy: 0.9281 - val_loss: 0.1149 - val_accuracy: 0.9677\n",
      "Epoch 115/1000\n",
      " 1/18 [>.............................] - ETA: 0s - loss: 0.6772 - accuracy: 0.8125\n",
      "Epoch 115: saving model to model/keypoint_classifier/keypoint_classifier.hdf5\n",
      "18/18 [==============================] - 0s 1ms/step - loss: 0.1916 - accuracy: 0.9568 - val_loss: 0.1177 - val_accuracy: 0.9677\n",
      "Epoch 116/1000\n",
      " 1/18 [>.............................] - ETA: 0s - loss: 0.1244 - accuracy: 0.9375\n",
      "Epoch 116: saving model to model/keypoint_classifier/keypoint_classifier.hdf5\n",
      "18/18 [==============================] - 0s 1ms/step - loss: 0.1690 - accuracy: 0.9424 - val_loss: 0.1221 - val_accuracy: 0.9677\n",
      "Epoch 117/1000\n",
      " 1/18 [>.............................] - ETA: 0s - loss: 0.1529 - accuracy: 0.9375\n",
      "Epoch 117: saving model to model/keypoint_classifier/keypoint_classifier.hdf5\n",
      "18/18 [==============================] - 0s 1ms/step - loss: 0.2203 - accuracy: 0.9353 - val_loss: 0.1217 - val_accuracy: 0.9677\n",
      "Epoch 118/1000\n",
      " 1/18 [>.............................] - ETA: 0s - loss: 0.0519 - accuracy: 1.0000\n",
      "Epoch 118: saving model to model/keypoint_classifier/keypoint_classifier.hdf5\n",
      "18/18 [==============================] - 0s 1ms/step - loss: 0.2262 - accuracy: 0.9101 - val_loss: 0.1195 - val_accuracy: 0.9677\n",
      "Epoch 119/1000\n",
      " 1/18 [>.............................] - ETA: 0s - loss: 0.2052 - accuracy: 0.8750\n",
      "Epoch 119: saving model to model/keypoint_classifier/keypoint_classifier.hdf5\n",
      "18/18 [==============================] - 0s 1ms/step - loss: 0.1733 - accuracy: 0.9353 - val_loss: 0.1206 - val_accuracy: 0.9677\n",
      "Epoch 120/1000\n",
      " 1/18 [>.............................] - ETA: 0s - loss: 0.1809 - accuracy: 0.9375\n",
      "Epoch 120: saving model to model/keypoint_classifier/keypoint_classifier.hdf5\n",
      "18/18 [==============================] - 0s 1ms/step - loss: 0.1790 - accuracy: 0.9317 - val_loss: 0.1305 - val_accuracy: 0.9570\n",
      "Epoch 120: early stopping\n"
     ]
    },
    {
     "data": {
      "text/plain": [
       "<keras.src.callbacks.History at 0x28b1e4d90>"
      ]
     },
     "execution_count": 11,
     "metadata": {},
     "output_type": "execute_result"
    }
   ],
   "source": [
    "model.fit(\n",
    "    X_train,\n",
    "    y_train,\n",
    "    epochs=1000,\n",
    "    batch_size=16,\n",
    "    validation_data=(X_test, y_test),\n",
    "    callbacks=[cp_callback, es_callback]\n",
    ")"
   ]
  },
  {
   "cell_type": "code",
   "execution_count": 12,
   "metadata": {},
   "outputs": [
    {
     "name": "stdout",
     "output_type": "stream",
     "text": [
      "1/1 [==============================] - 0s 16ms/step - loss: 0.1305 - accuracy: 0.9570\n"
     ]
    }
   ],
   "source": [
    "# モデル評価\n",
    "val_loss, val_acc = model.evaluate(X_test, y_test, batch_size=128)"
   ]
  },
  {
   "cell_type": "code",
   "execution_count": 13,
   "metadata": {},
   "outputs": [],
   "source": [
    "# 保存したモデルのロード\n",
    "model = tf.keras.models.load_model(model_save_path)"
   ]
  },
  {
   "cell_type": "code",
   "execution_count": 14,
   "metadata": {},
   "outputs": [
    {
     "name": "stdout",
     "output_type": "stream",
     "text": [
      "1/1 [==============================] - 0s 38ms/step\n",
      "[0.00351459 0.99648535]\n",
      "1\n"
     ]
    }
   ],
   "source": [
    "# 推論テスト\n",
    "predict_result = model.predict(np.array([X_test[0]]))\n",
    "print(np.squeeze(predict_result))\n",
    "print(np.argmax(np.squeeze(predict_result)))"
   ]
  },
  {
   "cell_type": "markdown",
   "metadata": {},
   "source": [
    "# 混同行列"
   ]
  },
  {
   "cell_type": "code",
   "execution_count": 15,
   "metadata": {},
   "outputs": [
    {
     "name": "stderr",
     "output_type": "stream",
     "text": [
      "/Users/siddharthfampay/Downloads/Xcode.app/Contents/Developer/Library/Frameworks/Python3.framework/Versions/3.9/lib/python3.9/pty.py:85: RuntimeWarning: os.fork() was called. os.fork() is incompatible with multithreaded code, and JAX is multithreaded, so this will likely lead to a deadlock.\n",
      "  pid, fd = os.forkpty()\n"
     ]
    },
    {
     "name": "stdout",
     "output_type": "stream",
     "text": [
      "Defaulting to user installation because normal site-packages is not writeable\n",
      "Requirement already satisfied: pandas in /Users/siddharthfampay/Library/Python/3.9/lib/python/site-packages (2.2.1)\n",
      "Requirement already satisfied: numpy<2,>=1.22.4 in /Users/siddharthfampay/Library/Python/3.9/lib/python/site-packages (from pandas) (1.24.3)\n",
      "Requirement already satisfied: python-dateutil>=2.8.2 in /Users/siddharthfampay/Library/Python/3.9/lib/python/site-packages (from pandas) (2.9.0.post0)\n",
      "Requirement already satisfied: pytz>=2020.1 in /Users/siddharthfampay/Library/Python/3.9/lib/python/site-packages (from pandas) (2024.1)\n",
      "Requirement already satisfied: tzdata>=2022.7 in /Users/siddharthfampay/Library/Python/3.9/lib/python/site-packages (from pandas) (2024.1)\n",
      "Requirement already satisfied: six>=1.5 in /Users/siddharthfampay/Downloads/Xcode.app/Contents/Developer/Library/Frameworks/Python3.framework/Versions/3.9/lib/python3.9/site-packages (from python-dateutil>=2.8.2->pandas) (1.15.0)\n",
      "Defaulting to user installation because normal site-packages is not writeable\n",
      "Requirement already satisfied: seaborn in /Users/siddharthfampay/Library/Python/3.9/lib/python/site-packages (0.13.2)\n",
      "Requirement already satisfied: numpy!=1.24.0,>=1.20 in /Users/siddharthfampay/Library/Python/3.9/lib/python/site-packages (from seaborn) (1.24.3)\n",
      "Requirement already satisfied: pandas>=1.2 in /Users/siddharthfampay/Library/Python/3.9/lib/python/site-packages (from seaborn) (2.2.1)\n",
      "Requirement already satisfied: matplotlib!=3.6.1,>=3.4 in /Users/siddharthfampay/Library/Python/3.9/lib/python/site-packages (from seaborn) (3.5.1)\n",
      "Requirement already satisfied: cycler>=0.10 in /Users/siddharthfampay/Library/Python/3.9/lib/python/site-packages (from matplotlib!=3.6.1,>=3.4->seaborn) (0.12.1)\n",
      "Requirement already satisfied: fonttools>=4.22.0 in /Users/siddharthfampay/Library/Python/3.9/lib/python/site-packages (from matplotlib!=3.6.1,>=3.4->seaborn) (4.49.0)\n",
      "Requirement already satisfied: kiwisolver>=1.0.1 in /Users/siddharthfampay/Library/Python/3.9/lib/python/site-packages (from matplotlib!=3.6.1,>=3.4->seaborn) (1.4.5)\n",
      "Requirement already satisfied: packaging>=20.0 in /Users/siddharthfampay/Library/Python/3.9/lib/python/site-packages (from matplotlib!=3.6.1,>=3.4->seaborn) (24.0)\n",
      "Requirement already satisfied: pillow>=6.2.0 in /Users/siddharthfampay/Library/Python/3.9/lib/python/site-packages (from matplotlib!=3.6.1,>=3.4->seaborn) (10.2.0)\n",
      "Requirement already satisfied: pyparsing>=2.2.1 in /Users/siddharthfampay/Library/Python/3.9/lib/python/site-packages (from matplotlib!=3.6.1,>=3.4->seaborn) (3.1.2)\n",
      "Requirement already satisfied: python-dateutil>=2.7 in /Users/siddharthfampay/Library/Python/3.9/lib/python/site-packages (from matplotlib!=3.6.1,>=3.4->seaborn) (2.9.0.post0)\n",
      "Requirement already satisfied: pytz>=2020.1 in /Users/siddharthfampay/Library/Python/3.9/lib/python/site-packages (from pandas>=1.2->seaborn) (2024.1)\n",
      "Requirement already satisfied: tzdata>=2022.7 in /Users/siddharthfampay/Library/Python/3.9/lib/python/site-packages (from pandas>=1.2->seaborn) (2024.1)\n",
      "Requirement already satisfied: six>=1.5 in /Users/siddharthfampay/Downloads/Xcode.app/Contents/Developer/Library/Frameworks/Python3.framework/Versions/3.9/lib/python3.9/site-packages (from python-dateutil>=2.7->matplotlib!=3.6.1,>=3.4->seaborn) (1.15.0)\n",
      "3/3 [==============================] - 0s 635us/step\n"
     ]
    },
    {
     "data": {
      "image/png": "[encoded data removed]",
      "text/plain": [
       "<Figure size 700x600 with 2 Axes>"
      ]
     },
     "metadata": {},
     "output_type": "display_data"
    },
    {
     "name": "stdout",
     "output_type": "stream",
     "text": [
      "Classification Report\n",
      "              precision    recall  f1-score   support\n",
      "\n",
      "           0       0.93      1.00      0.97        57\n",
      "           1       1.00      0.89      0.94        36\n",
      "\n",
      "    accuracy                           0.96        93\n",
      "   macro avg       0.97      0.94      0.95        93\n",
      "weighted avg       0.96      0.96      0.96        93\n",
      "\n"
     ]
    }
   ],
   "source": [
    "!pip3 install pandas\n",
    "!pip3 install seaborn\n",
    "import pandas as pd\n",
    "import seaborn as sns\n",
    "import matplotlib.pyplot as plt\n",
    "from sklearn.metrics import confusion_matrix, classification_report\n",
    "\n",
    "def print_confusion_matrix(y_true, y_pred, report=True):\n",
    "    labels = sorted(list(set(y_true)))\n",
    "    cmx_data = confusion_matrix(y_true, y_pred, labels=labels)\n",
    "    \n",
    "    df_cmx = pd.DataFrame(cmx_data, index=labels, columns=labels)\n",
    " \n",
    "    fig, ax = plt.subplots(figsize=(7, 6))\n",
    "    sns.heatmap(df_cmx, annot=True, fmt='g' ,square=False)\n",
    "    ax.set_ylim(len(set(y_true)), 0)\n",
    "    plt.show()\n",
    "    \n",
    "    if report:\n",
    "        print('Classification Report')\n",
    "        print(classification_report(y_test, y_pred))\n",
    "\n",
    "Y_pred = model.predict(X_test)\n",
    "y_pred = np.argmax(Y_pred, axis=1)\n",
    "\n",
    "print_confusion_matrix(y_test, y_pred)"
   ]
  },
  {
   "cell_type": "markdown",
   "metadata": {},
   "source": [
    "# Tensorflow-Lite用のモデルへ変換"
   ]
  },
  {
   "cell_type": "code",
   "execution_count": 16,
   "metadata": {},
   "outputs": [
    {
     "name": "stderr",
     "output_type": "stream",
     "text": [
      "/Users/siddharthfampay/Library/Python/3.9/lib/python/site-packages/keras/src/engine/training.py:3000: UserWarning: You are saving your model as an HDF5 file via `model.save()`. This file format is considered legacy. We recommend using instead the native Keras format, e.g. `model.save('my_model.keras')`.\n",
      "  saving_api.save_model(\n"
     ]
    }
   ],
   "source": [
    "# 推論専用のモデルとして保存\n",
    "model.save(model_save_path, include_optimizer=False)\n"
   ]
  },
  {
   "cell_type": "code",
   "execution_count": 17,
   "metadata": {},
   "outputs": [
    {
     "name": "stdout",
     "output_type": "stream",
     "text": [
      "INFO:tensorflow:Assets written to: /var/folders/ss/bt959stj7bd243dv8rlpvxb80000gn/T/tmpbzek2sgh/assets\n"
     ]
    },
    {
     "name": "stderr",
     "output_type": "stream",
     "text": [
      "INFO:tensorflow:Assets written to: /var/folders/ss/bt959stj7bd243dv8rlpvxb80000gn/T/tmpbzek2sgh/assets\n",
      "2024-03-12 20:35:49.971580: W tensorflow/compiler/mlir/lite/python/tf_tfl_flatbuffer_helpers.cc:364] Ignored output_format.\n",
      "2024-03-12 20:35:49.971769: W tensorflow/compiler/mlir/lite/python/tf_tfl_flatbuffer_helpers.cc:367] Ignored drop_control_dependency.\n"
     ]
    },
    {
     "data": {
      "text/plain": [
       "6456"
      ]
     },
     "execution_count": 17,
     "metadata": {},
     "output_type": "execute_result"
    }
   ],
   "source": [
    "# モデルを変換(量子化)\n",
    "tflite_save_path = 'model/keypoint_classifier/keypoint_classifier.tflite'\n",
    "\n",
    "\n",
    "\n",
    "converter = tf.lite.TFLiteConverter.from_keras_model(model)\n",
    "converter.optimizations = [tf.lite.Optimize.DEFAULT]\n",
    "\n",
    "tflite_quantized_model = converter.convert()\n",
    "\n",
    "open(tflite_save_path, 'wb').write(tflite_quantized_model)"
   ]
  },
  {
   "cell_type": "markdown",
   "metadata": {},
   "source": [
    "# 推論テスト"
   ]
  },
  {
   "cell_type": "code",
   "execution_count": 18,
   "metadata": {},
   "outputs": [
    {
     "name": "stderr",
     "output_type": "stream",
     "text": [
      "INFO: Created TensorFlow Lite XNNPACK delegate for CPU.\n"
     ]
    }
   ],
   "source": [
    "interpreter = tf.lite.Interpreter(model_path=tflite_save_path)\n",
    "interpreter.allocate_tensors()"
   ]
  },
  {
   "cell_type": "code",
   "execution_count": 19,
   "metadata": {},
   "outputs": [],
   "source": [
    "# 入出力テンソルを取得\n",
    "input_details = interpreter.get_input_details()\n",
    "output_details = interpreter.get_output_details()"
   ]
  },
  {
   "cell_type": "code",
   "execution_count": 20,
   "metadata": {},
   "outputs": [],
   "source": [
    "interpreter.set_tensor(input_details[0]['index'], np.array([X_test[0]]))"
   ]
  },
  {
   "cell_type": "code",
   "execution_count": 21,
   "metadata": {
    "scrolled": true
   },
   "outputs": [
    {
     "name": "stdout",
     "output_type": "stream",
     "text": [
      "CPU times: user 407 µs, sys: 661 µs, total: 1.07 ms\n",
      "Wall time: 558 µs\n"
     ]
    }
   ],
   "source": [
    "%%time\n",
    "# 推論実施\n",
    "interpreter.invoke()\n",
    "tflite_results = interpreter.get_tensor(output_details[0]['index'])"
   ]
  },
  {
   "cell_type": "code",
   "execution_count": 22,
   "metadata": {},
   "outputs": [
    {
     "name": "stdout",
     "output_type": "stream",
     "text": [
      "[0.00351459 0.99648535]\n",
      "1\n"
     ]
    }
   ],
   "source": [
    "print(np.squeeze(tflite_results))\n",
    "print(np.argmax(np.squeeze(tflite_results)))"
   ]
  }
 ],
 "metadata": {
  "kernelspec": {
   "display_name": "Python 3",
   "language": "python",
   "name": "python3"
  },
  "language_info": {
   "codemirror_mode": {
    "name": "ipython",
    "version": 3
   },
   "file_extension": ".py",
   "mimetype": "text/x-python",
   "name": "python",
   "nbconvert_exporter": "python",
   "pygments_lexer": "ipython3",
   "version": "3.9.6"
  }
 },
 "nbformat": 4,
 "nbformat_minor": 4
}
