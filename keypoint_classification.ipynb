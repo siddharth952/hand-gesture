{
 "cells": [
  {
   "cell_type": "code",
   "execution_count": 4,
   "metadata": {},
   "outputs": [
    {
     "name": "stderr",
     "output_type": "stream",
     "text": [
      "/Users/siddharthfampay/Library/Python/3.9/lib/python/site-packages/urllib3/__init__.py:34: NotOpenSSLWarning: urllib3 v2.0 only supports OpenSSL 1.1.1+, currently the 'ssl' module is compiled with 'LibreSSL 2.8.3'. See: https://github.com/urllib3/urllib3/issues/3020\n",
      "  warnings.warn(\n"
     ]
    }
   ],
   "source": [
    "\n",
    "#!pip3 install tensorflow==2.13.0\n",
    "\n",
    "import csv\n",
    "\n",
    "import numpy as np\n",
    "import tensorflow as tf\n",
    "from sklearn.model_selection import train_test_split\n",
    "\n",
    "RANDOM_SEED = 42"
   ]
  },
  {
   "cell_type": "markdown",
   "metadata": {},
   "source": [
    "# 各パス指定"
   ]
  },
  {
   "cell_type": "code",
   "execution_count": 17,
   "metadata": {},
   "outputs": [],
   "source": [
    "dataset = 'model/keypoint_classifier/keypoint.csv'\n",
    "model_save_path = 'model/keypoint_classifier/keypoint_classifier.hdf5'"
   ]
  },
  {
   "cell_type": "markdown",
   "metadata": {},
   "source": [
    "# 分類数設定"
   ]
  },
  {
   "cell_type": "code",
   "execution_count": 6,
   "metadata": {},
   "outputs": [],
   "source": [
    "NUM_CLASSES = 3"
   ]
  },
  {
   "cell_type": "markdown",
   "metadata": {},
   "source": [
    "# 学習データ読み込み"
   ]
  },
  {
   "cell_type": "code",
   "execution_count": 7,
   "metadata": {},
   "outputs": [],
   "source": [
    "X_dataset = np.loadtxt(dataset, delimiter=',', dtype='float32', usecols=list(range(1, (21 * 2) + 1)))"
   ]
  },
  {
   "cell_type": "code",
   "execution_count": 8,
   "metadata": {},
   "outputs": [],
   "source": [
    "y_dataset = np.loadtxt(dataset, delimiter=',', dtype='int32', usecols=(0))"
   ]
  },
  {
   "cell_type": "code",
   "execution_count": 9,
   "metadata": {},
   "outputs": [],
   "source": [
    "X_train, X_test, y_train, y_test = train_test_split(X_dataset, y_dataset, train_size=0.75, random_state=RANDOM_SEED)"
   ]
  },
  {
   "cell_type": "markdown",
   "metadata": {},
   "source": [
    "# モデル構築"
   ]
  },
  {
   "cell_type": "code",
   "execution_count": 10,
   "metadata": {},
   "outputs": [],
   "source": [
    "model = tf.keras.models.Sequential([\n",
    "    tf.keras.layers.Input((21 * 2, )),\n",
    "    tf.keras.layers.Dropout(0.2),\n",
    "    tf.keras.layers.Dense(20, activation='relu'),\n",
    "    tf.keras.layers.Dropout(0.4),\n",
    "    tf.keras.layers.Dense(10, activation='relu'),\n",
    "    tf.keras.layers.Dense(NUM_CLASSES, activation='softmax')\n",
    "])"
   ]
  },
  {
   "cell_type": "code",
   "execution_count": 11,
   "metadata": {},
   "outputs": [
    {
     "name": "stdout",
     "output_type": "stream",
     "text": [
      "Model: \"sequential\"\n",
      "_________________________________________________________________\n",
      " Layer (type)                Output Shape              Param #   \n",
      "=================================================================\n",
      " dropout (Dropout)           (None, 42)                0         \n",
      "                                                                 \n",
      " dense (Dense)               (None, 20)                860       \n",
      "                                                                 \n",
      " dropout_1 (Dropout)         (None, 20)                0         \n",
      "                                                                 \n",
      " dense_1 (Dense)             (None, 10)                210       \n",
      "                                                                 \n",
      " dense_2 (Dense)             (None, 3)                 33        \n",
      "                                                                 \n",
      "=================================================================\n",
      "Total params: 1103 (4.31 KB)\n",
      "Trainable params: 1103 (4.31 KB)\n",
      "Non-trainable params: 0 (0.00 Byte)\n",
      "_________________________________________________________________\n"
     ]
    }
   ],
   "source": [
    "model.summary()  # tf.keras.utils.plot_model(model, show_shapes=True)"
   ]
  },
  {
   "cell_type": "code",
   "execution_count": 12,
   "metadata": {},
   "outputs": [],
   "source": [
    "# モデルチェックポイントのコールバック\n",
    "cp_callback = tf.keras.callbacks.ModelCheckpoint(\n",
    "    model_save_path, verbose=1, save_weights_only=False)\n",
    "# 早期打ち切り用コールバック\n",
    "es_callback = tf.keras.callbacks.EarlyStopping(patience=20, verbose=1)"
   ]
  },
  {
   "cell_type": "code",
   "execution_count": 13,
   "metadata": {},
   "outputs": [],
   "source": [
    "# モデルコンパイル\n",
    "model.compile(\n",
    "    optimizer='adam',\n",
    "    loss='sparse_categorical_crossentropy',\n",
    "    metrics=['accuracy']\n",
    ")"
   ]
  },
  {
   "cell_type": "markdown",
   "metadata": {},
   "source": [
    "# モデル訓練"
   ]
  },
  {
   "cell_type": "code",
   "execution_count": 14,
   "metadata": {
    "scrolled": true
   },
   "outputs": [
    {
     "name": "stdout",
     "output_type": "stream",
     "text": [
      "Epoch 1/1000\n",
      "105/209 [==============>...............] - ETA: 0s - loss: 1.0642 - accuracy: 0.4167 \n",
      "Epoch 1: saving model to model/keypoint_classifier/keypoint_classifier.keras\n",
      "209/209 [==============================] - 0s 1ms/step - loss: 1.0187 - accuracy: 0.4576 - val_loss: 0.8573 - val_accuracy: 0.6460\n",
      "Epoch 2/1000\n",
      "121/209 [================>.............] - ETA: 0s - loss: 0.8977 - accuracy: 0.5517\n",
      "Epoch 2: saving model to model/keypoint_classifier/keypoint_classifier.keras\n",
      "209/209 [==============================] - 0s 602us/step - loss: 0.8845 - accuracy: 0.5634 - val_loss: 0.6937 - val_accuracy: 0.7574\n",
      "Epoch 3/1000\n",
      "124/209 [================>.............] - ETA: 0s - loss: 0.7932 - accuracy: 0.6411\n",
      "Epoch 3: saving model to model/keypoint_classifier/keypoint_classifier.keras\n",
      "209/209 [==============================] - 0s 586us/step - loss: 0.7816 - accuracy: 0.6518 - val_loss: 0.5752 - val_accuracy: 0.8598\n",
      "Epoch 4/1000\n",
      "120/209 [================>.............] - ETA: 0s - loss: 0.7172 - accuracy: 0.6870\n",
      "Epoch 4: saving model to model/keypoint_classifier/keypoint_classifier.keras\n",
      "209/209 [==============================] - 0s 591us/step - loss: 0.7127 - accuracy: 0.6910 - val_loss: 0.4839 - val_accuracy: 0.8751\n",
      "Epoch 5/1000\n",
      "121/209 [================>.............] - ETA: 0s - loss: 0.6952 - accuracy: 0.7066\n",
      "Epoch 5: saving model to model/keypoint_classifier/keypoint_classifier.keras\n",
      "209/209 [==============================] - 0s 593us/step - loss: 0.6652 - accuracy: 0.7231 - val_loss: 0.4220 - val_accuracy: 0.9003\n",
      "Epoch 6/1000\n",
      "122/209 [================>.............] - ETA: 0s - loss: 0.6452 - accuracy: 0.7275\n",
      "Epoch 6: saving model to model/keypoint_classifier/keypoint_classifier.keras\n",
      "209/209 [==============================] - 0s 591us/step - loss: 0.6417 - accuracy: 0.7366 - val_loss: 0.3861 - val_accuracy: 0.9254\n",
      "Epoch 7/1000\n",
      "120/209 [================>.............] - ETA: 0s - loss: 0.6155 - accuracy: 0.7469\n",
      "Epoch 7: saving model to model/keypoint_classifier/keypoint_classifier.keras\n",
      "209/209 [==============================] - 0s 594us/step - loss: 0.6185 - accuracy: 0.7447 - val_loss: 0.3482 - val_accuracy: 0.9362\n",
      "Epoch 8/1000\n",
      "120/209 [================>.............] - ETA: 0s - loss: 0.5793 - accuracy: 0.7625\n",
      "Epoch 8: saving model to model/keypoint_classifier/keypoint_classifier.keras\n",
      "209/209 [==============================] - 0s 593us/step - loss: 0.5829 - accuracy: 0.7621 - val_loss: 0.3162 - val_accuracy: 0.9461\n",
      "Epoch 9/1000\n",
      "123/209 [================>.............] - ETA: 0s - loss: 0.5848 - accuracy: 0.7551\n",
      "Epoch 9: saving model to model/keypoint_classifier/keypoint_classifier.keras\n",
      "209/209 [==============================] - 0s 594us/step - loss: 0.5720 - accuracy: 0.7627 - val_loss: 0.2914 - val_accuracy: 0.9434\n",
      "Epoch 10/1000\n",
      "117/209 [===============>..............] - ETA: 0s - loss: 0.5588 - accuracy: 0.7804\n",
      "Epoch 10: saving model to model/keypoint_classifier/keypoint_classifier.keras\n",
      "209/209 [==============================] - 0s 601us/step - loss: 0.5515 - accuracy: 0.7770 - val_loss: 0.2852 - val_accuracy: 0.9452\n",
      "Epoch 11/1000\n",
      "124/209 [================>.............] - ETA: 0s - loss: 0.5293 - accuracy: 0.7888\n",
      "Epoch 11: saving model to model/keypoint_classifier/keypoint_classifier.keras\n",
      "209/209 [==============================] - 0s 589us/step - loss: 0.5336 - accuracy: 0.7899 - val_loss: 0.2721 - val_accuracy: 0.9452\n",
      "Epoch 12/1000\n",
      "120/209 [================>.............] - ETA: 0s - loss: 0.5177 - accuracy: 0.7948\n",
      "Epoch 12: saving model to model/keypoint_classifier/keypoint_classifier.keras\n",
      "209/209 [==============================] - 0s 597us/step - loss: 0.5223 - accuracy: 0.7941 - val_loss: 0.2553 - val_accuracy: 0.9515\n",
      "Epoch 13/1000\n",
      "123/209 [================>.............] - ETA: 0s - loss: 0.5049 - accuracy: 0.7988\n",
      "Epoch 13: saving model to model/keypoint_classifier/keypoint_classifier.keras\n",
      "209/209 [==============================] - 0s 592us/step - loss: 0.5193 - accuracy: 0.7944 - val_loss: 0.2469 - val_accuracy: 0.9470\n",
      "Epoch 14/1000\n",
      "116/209 [===============>..............] - ETA: 0s - loss: 0.5132 - accuracy: 0.8039\n",
      "Epoch 14: saving model to model/keypoint_classifier/keypoint_classifier.keras\n",
      "209/209 [==============================] - 0s 609us/step - loss: 0.5138 - accuracy: 0.8079 - val_loss: 0.2464 - val_accuracy: 0.9461\n",
      "Epoch 15/1000\n",
      "119/209 [================>.............] - ETA: 0s - loss: 0.5417 - accuracy: 0.7883\n",
      "Epoch 15: saving model to model/keypoint_classifier/keypoint_classifier.keras\n",
      "209/209 [==============================] - 0s 594us/step - loss: 0.5149 - accuracy: 0.7956 - val_loss: 0.2325 - val_accuracy: 0.9569\n",
      "Epoch 16/1000\n",
      "125/209 [================>.............] - ETA: 0s - loss: 0.4994 - accuracy: 0.8015\n",
      "Epoch 16: saving model to model/keypoint_classifier/keypoint_classifier.keras\n",
      "209/209 [==============================] - 0s 582us/step - loss: 0.4857 - accuracy: 0.8088 - val_loss: 0.2375 - val_accuracy: 0.9425\n",
      "Epoch 17/1000\n",
      "122/209 [================>.............] - ETA: 0s - loss: 0.4892 - accuracy: 0.8058\n",
      "Epoch 17: saving model to model/keypoint_classifier/keypoint_classifier.keras\n",
      "209/209 [==============================] - 0s 593us/step - loss: 0.4844 - accuracy: 0.8070 - val_loss: 0.2185 - val_accuracy: 0.9569\n",
      "Epoch 18/1000\n",
      "123/209 [================>.............] - ETA: 0s - loss: 0.4782 - accuracy: 0.8120\n",
      "Epoch 18: saving model to model/keypoint_classifier/keypoint_classifier.keras\n",
      "209/209 [==============================] - 0s 586us/step - loss: 0.4756 - accuracy: 0.8160 - val_loss: 0.2126 - val_accuracy: 0.9569\n",
      "Epoch 19/1000\n",
      "128/209 [=================>............] - ETA: 0s - loss: 0.4741 - accuracy: 0.8174\n",
      "Epoch 19: saving model to model/keypoint_classifier/keypoint_classifier.keras\n",
      "209/209 [==============================] - 0s 578us/step - loss: 0.4723 - accuracy: 0.8205 - val_loss: 0.2228 - val_accuracy: 0.9497\n",
      "Epoch 20/1000\n",
      "124/209 [================>.............] - ETA: 0s - loss: 0.4934 - accuracy: 0.8216\n",
      "Epoch 20: saving model to model/keypoint_classifier/keypoint_classifier.keras\n",
      "209/209 [==============================] - 0s 582us/step - loss: 0.4756 - accuracy: 0.8190 - val_loss: 0.2088 - val_accuracy: 0.9578\n",
      "Epoch 21/1000\n",
      "114/209 [===============>..............] - ETA: 0s - loss: 0.4519 - accuracy: 0.8218\n",
      "Epoch 21: saving model to model/keypoint_classifier/keypoint_classifier.keras\n",
      "209/209 [==============================] - 0s 605us/step - loss: 0.4628 - accuracy: 0.8166 - val_loss: 0.2202 - val_accuracy: 0.9506\n",
      "Epoch 22/1000\n",
      "122/209 [================>.............] - ETA: 0s - loss: 0.4513 - accuracy: 0.8274\n",
      "Epoch 22: saving model to model/keypoint_classifier/keypoint_classifier.keras\n",
      "209/209 [==============================] - 0s 587us/step - loss: 0.4477 - accuracy: 0.8289 - val_loss: 0.2049 - val_accuracy: 0.9533\n",
      "Epoch 23/1000\n",
      "121/209 [================>.............] - ETA: 0s - loss: 0.4585 - accuracy: 0.8177\n",
      "Epoch 23: saving model to model/keypoint_classifier/keypoint_classifier.keras\n",
      "209/209 [==============================] - 0s 589us/step - loss: 0.4646 - accuracy: 0.8193 - val_loss: 0.2066 - val_accuracy: 0.9497\n",
      "Epoch 24/1000\n",
      "122/209 [================>.............] - ETA: 0s - loss: 0.4391 - accuracy: 0.8443\n",
      "Epoch 24: saving model to model/keypoint_classifier/keypoint_classifier.keras\n",
      "209/209 [==============================] - 0s 582us/step - loss: 0.4397 - accuracy: 0.8328 - val_loss: 0.1914 - val_accuracy: 0.9542\n",
      "Epoch 25/1000\n",
      "123/209 [================>.............] - ETA: 0s - loss: 0.4697 - accuracy: 0.8201\n",
      "Epoch 25: saving model to model/keypoint_classifier/keypoint_classifier.keras\n",
      "209/209 [==============================] - 0s 584us/step - loss: 0.4573 - accuracy: 0.8220 - val_loss: 0.1933 - val_accuracy: 0.9596\n",
      "Epoch 26/1000\n",
      "123/209 [================>.............] - ETA: 0s - loss: 0.4417 - accuracy: 0.8349\n",
      "Epoch 26: saving model to model/keypoint_classifier/keypoint_classifier.keras\n",
      "209/209 [==============================] - 0s 586us/step - loss: 0.4426 - accuracy: 0.8304 - val_loss: 0.1911 - val_accuracy: 0.9533\n",
      "Epoch 27/1000\n",
      "121/209 [================>.............] - ETA: 0s - loss: 0.4266 - accuracy: 0.8373\n",
      "Epoch 27: saving model to model/keypoint_classifier/keypoint_classifier.keras\n",
      "209/209 [==============================] - 0s 586us/step - loss: 0.4194 - accuracy: 0.8406 - val_loss: 0.1808 - val_accuracy: 0.9721\n",
      "Epoch 28/1000\n",
      "125/209 [================>.............] - ETA: 0s - loss: 0.4400 - accuracy: 0.8305\n",
      "Epoch 28: saving model to model/keypoint_classifier/keypoint_classifier.keras\n",
      "209/209 [==============================] - 0s 582us/step - loss: 0.4327 - accuracy: 0.8370 - val_loss: 0.1943 - val_accuracy: 0.9578\n",
      "Epoch 29/1000\n",
      "124/209 [================>.............] - ETA: 0s - loss: 0.4266 - accuracy: 0.8311\n",
      "Epoch 29: saving model to model/keypoint_classifier/keypoint_classifier.keras\n",
      "209/209 [==============================] - 0s 581us/step - loss: 0.4387 - accuracy: 0.8280 - val_loss: 0.1961 - val_accuracy: 0.9569\n",
      "Epoch 30/1000\n",
      "126/209 [=================>............] - ETA: 0s - loss: 0.4127 - accuracy: 0.8462\n",
      "Epoch 30: saving model to model/keypoint_classifier/keypoint_classifier.keras\n",
      "209/209 [==============================] - 0s 575us/step - loss: 0.4218 - accuracy: 0.8412 - val_loss: 0.1879 - val_accuracy: 0.9596\n",
      "Epoch 31/1000\n",
      "189/209 [==========================>...] - ETA: 0s - loss: 0.4355 - accuracy: 0.8323\n",
      "Epoch 31: saving model to model/keypoint_classifier/keypoint_classifier.keras\n",
      "209/209 [==============================] - 0s 705us/step - loss: 0.4378 - accuracy: 0.8301 - val_loss: 0.1985 - val_accuracy: 0.9587\n",
      "Epoch 32/1000\n",
      "121/209 [================>.............] - ETA: 0s - loss: 0.4475 - accuracy: 0.8332\n",
      "Epoch 32: saving model to model/keypoint_classifier/keypoint_classifier.keras\n",
      "209/209 [==============================] - 0s 593us/step - loss: 0.4341 - accuracy: 0.8346 - val_loss: 0.1806 - val_accuracy: 0.9605\n",
      "Epoch 33/1000\n",
      "122/209 [================>.............] - ETA: 0s - loss: 0.3961 - accuracy: 0.8489\n",
      "Epoch 33: saving model to model/keypoint_classifier/keypoint_classifier.keras\n",
      "209/209 [==============================] - 0s 586us/step - loss: 0.4024 - accuracy: 0.8484 - val_loss: 0.1729 - val_accuracy: 0.9730\n",
      "Epoch 34/1000\n",
      "122/209 [================>.............] - ETA: 0s - loss: 0.4103 - accuracy: 0.8535\n",
      "Epoch 34: saving model to model/keypoint_classifier/keypoint_classifier.keras\n",
      "209/209 [==============================] - 0s 586us/step - loss: 0.4153 - accuracy: 0.8439 - val_loss: 0.1749 - val_accuracy: 0.9677\n",
      "Epoch 35/1000\n",
      "124/209 [================>.............] - ETA: 0s - loss: 0.4259 - accuracy: 0.8508\n",
      "Epoch 35: saving model to model/keypoint_classifier/keypoint_classifier.keras\n",
      "209/209 [==============================] - 0s 583us/step - loss: 0.4277 - accuracy: 0.8421 - val_loss: 0.1815 - val_accuracy: 0.9677\n",
      "Epoch 36/1000\n",
      "123/209 [================>.............] - ETA: 0s - loss: 0.4080 - accuracy: 0.8471\n",
      "Epoch 36: saving model to model/keypoint_classifier/keypoint_classifier.keras\n",
      "209/209 [==============================] - 0s 585us/step - loss: 0.4051 - accuracy: 0.8505 - val_loss: 0.1762 - val_accuracy: 0.9641\n",
      "Epoch 37/1000\n",
      "129/209 [=================>............] - ETA: 0s - loss: 0.4103 - accuracy: 0.8440\n",
      "Epoch 37: saving model to model/keypoint_classifier/keypoint_classifier.keras\n",
      "209/209 [==============================] - 0s 578us/step - loss: 0.4097 - accuracy: 0.8469 - val_loss: 0.1866 - val_accuracy: 0.9596\n",
      "Epoch 38/1000\n",
      "125/209 [================>.............] - ETA: 0s - loss: 0.4216 - accuracy: 0.8375\n",
      "Epoch 38: saving model to model/keypoint_classifier/keypoint_classifier.keras\n",
      "209/209 [==============================] - 0s 582us/step - loss: 0.4042 - accuracy: 0.8469 - val_loss: 0.1692 - val_accuracy: 0.9757\n",
      "Epoch 39/1000\n",
      "121/209 [================>.............] - ETA: 0s - loss: 0.3989 - accuracy: 0.8528\n",
      "Epoch 39: saving model to model/keypoint_classifier/keypoint_classifier.keras\n",
      "209/209 [==============================] - 0s 585us/step - loss: 0.4027 - accuracy: 0.8481 - val_loss: 0.1811 - val_accuracy: 0.9605\n",
      "Epoch 40/1000\n",
      "125/209 [================>.............] - ETA: 0s - loss: 0.3767 - accuracy: 0.8595\n",
      "Epoch 40: saving model to model/keypoint_classifier/keypoint_classifier.keras\n",
      "209/209 [==============================] - 0s 583us/step - loss: 0.3841 - accuracy: 0.8604 - val_loss: 0.1801 - val_accuracy: 0.9596\n",
      "Epoch 41/1000\n",
      "123/209 [================>.............] - ETA: 0s - loss: 0.3918 - accuracy: 0.8526\n",
      "Epoch 41: saving model to model/keypoint_classifier/keypoint_classifier.keras\n",
      "209/209 [==============================] - 0s 584us/step - loss: 0.4029 - accuracy: 0.8478 - val_loss: 0.1636 - val_accuracy: 0.9730\n",
      "Epoch 42/1000\n",
      "122/209 [================>.............] - ETA: 0s - loss: 0.3916 - accuracy: 0.8535\n",
      "Epoch 42: saving model to model/keypoint_classifier/keypoint_classifier.keras\n",
      "209/209 [==============================] - 0s 588us/step - loss: 0.4012 - accuracy: 0.8472 - val_loss: 0.1846 - val_accuracy: 0.9659\n",
      "Epoch 43/1000\n",
      "126/209 [=================>............] - ETA: 0s - loss: 0.4061 - accuracy: 0.8507\n",
      "Epoch 43: saving model to model/keypoint_classifier/keypoint_classifier.keras\n",
      "209/209 [==============================] - 0s 579us/step - loss: 0.3988 - accuracy: 0.8523 - val_loss: 0.1922 - val_accuracy: 0.9551\n",
      "Epoch 44/1000\n",
      "123/209 [================>.............] - ETA: 0s - loss: 0.4078 - accuracy: 0.8410\n",
      "Epoch 44: saving model to model/keypoint_classifier/keypoint_classifier.keras\n",
      "209/209 [==============================] - 0s 582us/step - loss: 0.4036 - accuracy: 0.8460 - val_loss: 0.1846 - val_accuracy: 0.9623\n",
      "Epoch 45/1000\n",
      "121/209 [================>.............] - ETA: 0s - loss: 0.3916 - accuracy: 0.8533\n",
      "Epoch 45: saving model to model/keypoint_classifier/keypoint_classifier.keras\n",
      "209/209 [==============================] - 0s 591us/step - loss: 0.3871 - accuracy: 0.8565 - val_loss: 0.1744 - val_accuracy: 0.9659\n",
      "Epoch 46/1000\n",
      "126/209 [=================>............] - ETA: 0s - loss: 0.3932 - accuracy: 0.8462\n",
      "Epoch 46: saving model to model/keypoint_classifier/keypoint_classifier.keras\n",
      "209/209 [==============================] - 0s 587us/step - loss: 0.3935 - accuracy: 0.8445 - val_loss: 0.1751 - val_accuracy: 0.9614\n",
      "Epoch 47/1000\n",
      "122/209 [================>.............] - ETA: 0s - loss: 0.3613 - accuracy: 0.8612\n",
      "Epoch 47: saving model to model/keypoint_classifier/keypoint_classifier.keras\n",
      "209/209 [==============================] - 0s 599us/step - loss: 0.3730 - accuracy: 0.8580 - val_loss: 0.1715 - val_accuracy: 0.9596\n",
      "Epoch 48/1000\n",
      "121/209 [================>.............] - ETA: 0s - loss: 0.3815 - accuracy: 0.8647\n",
      "Epoch 48: saving model to model/keypoint_classifier/keypoint_classifier.keras\n",
      "209/209 [==============================] - 0s 600us/step - loss: 0.3903 - accuracy: 0.8601 - val_loss: 0.1735 - val_accuracy: 0.9677\n",
      "Epoch 49/1000\n",
      "114/209 [===============>..............] - ETA: 0s - loss: 0.3808 - accuracy: 0.8629\n",
      "Epoch 49: saving model to model/keypoint_classifier/keypoint_classifier.keras\n",
      "209/209 [==============================] - 0s 651us/step - loss: 0.3654 - accuracy: 0.8681 - val_loss: 0.1656 - val_accuracy: 0.9695\n",
      "Epoch 50/1000\n",
      "126/209 [=================>............] - ETA: 0s - loss: 0.3572 - accuracy: 0.8700\n",
      "Epoch 50: saving model to model/keypoint_classifier/keypoint_classifier.keras\n",
      "209/209 [==============================] - 0s 579us/step - loss: 0.3844 - accuracy: 0.8589 - val_loss: 0.1872 - val_accuracy: 0.9623\n",
      "Epoch 51/1000\n",
      "125/209 [================>.............] - ETA: 0s - loss: 0.3915 - accuracy: 0.8595\n",
      "Epoch 51: saving model to model/keypoint_classifier/keypoint_classifier.keras\n",
      "209/209 [==============================] - 0s 588us/step - loss: 0.3802 - accuracy: 0.8634 - val_loss: 0.1720 - val_accuracy: 0.9712\n",
      "Epoch 52/1000\n",
      "123/209 [================>.............] - ETA: 0s - loss: 0.3698 - accuracy: 0.8592\n",
      "Epoch 52: saving model to model/keypoint_classifier/keypoint_classifier.keras\n",
      "209/209 [==============================] - 0s 588us/step - loss: 0.3764 - accuracy: 0.8571 - val_loss: 0.1680 - val_accuracy: 0.9712\n",
      "Epoch 53/1000\n",
      "121/209 [================>.............] - ETA: 0s - loss: 0.3492 - accuracy: 0.8693\n",
      "Epoch 53: saving model to model/keypoint_classifier/keypoint_classifier.keras\n",
      "209/209 [==============================] - 0s 589us/step - loss: 0.3622 - accuracy: 0.8660 - val_loss: 0.1690 - val_accuracy: 0.9712\n",
      "Epoch 54/1000\n",
      "112/209 [===============>..............] - ETA: 0s - loss: 0.3801 - accuracy: 0.8605\n",
      "Epoch 54: saving model to model/keypoint_classifier/keypoint_classifier.keras\n",
      "209/209 [==============================] - 0s 719us/step - loss: 0.3795 - accuracy: 0.8586 - val_loss: 0.1823 - val_accuracy: 0.9596\n",
      "Epoch 55/1000\n",
      "122/209 [================>.............] - ETA: 0s - loss: 0.3641 - accuracy: 0.8648\n",
      "Epoch 55: saving model to model/keypoint_classifier/keypoint_classifier.keras\n",
      "209/209 [==============================] - 0s 590us/step - loss: 0.3664 - accuracy: 0.8663 - val_loss: 0.1826 - val_accuracy: 0.9587\n",
      "Epoch 56/1000\n",
      "124/209 [================>.............] - ETA: 0s - loss: 0.3630 - accuracy: 0.8690\n",
      "Epoch 56: saving model to model/keypoint_classifier/keypoint_classifier.keras\n",
      "209/209 [==============================] - 0s 581us/step - loss: 0.3772 - accuracy: 0.8592 - val_loss: 0.1709 - val_accuracy: 0.9748\n",
      "Epoch 57/1000\n",
      "127/209 [=================>............] - ETA: 0s - loss: 0.3776 - accuracy: 0.8583\n",
      "Epoch 57: saving model to model/keypoint_classifier/keypoint_classifier.keras\n",
      "209/209 [==============================] - 0s 579us/step - loss: 0.3762 - accuracy: 0.8592 - val_loss: 0.1730 - val_accuracy: 0.9712\n",
      "Epoch 58/1000\n",
      "123/209 [================>.............] - ETA: 0s - loss: 0.3630 - accuracy: 0.8633\n",
      "Epoch 58: saving model to model/keypoint_classifier/keypoint_classifier.keras\n",
      "209/209 [==============================] - 0s 593us/step - loss: 0.3538 - accuracy: 0.8729 - val_loss: 0.1806 - val_accuracy: 0.9632\n",
      "Epoch 59/1000\n",
      "120/209 [================>.............] - ETA: 0s - loss: 0.3542 - accuracy: 0.8729\n",
      "Epoch 59: saving model to model/keypoint_classifier/keypoint_classifier.keras\n",
      "209/209 [==============================] - 0s 616us/step - loss: 0.3619 - accuracy: 0.8666 - val_loss: 0.1756 - val_accuracy: 0.9686\n",
      "Epoch 60/1000\n",
      "114/209 [===============>..............] - ETA: 0s - loss: 0.3834 - accuracy: 0.8586\n",
      "Epoch 60: saving model to model/keypoint_classifier/keypoint_classifier.keras\n",
      "209/209 [==============================] - 0s 616us/step - loss: 0.3732 - accuracy: 0.8625 - val_loss: 0.1908 - val_accuracy: 0.9542\n",
      "Epoch 61/1000\n",
      "127/209 [=================>............] - ETA: 0s - loss: 0.3924 - accuracy: 0.8602\n",
      "Epoch 61: saving model to model/keypoint_classifier/keypoint_classifier.keras\n",
      "209/209 [==============================] - 0s 577us/step - loss: 0.3827 - accuracy: 0.8636 - val_loss: 0.1807 - val_accuracy: 0.9641\n",
      "Epoch 61: early stopping\n"
     ]
    },
    {
     "data": {
      "text/plain": [
       "<keras.src.callbacks.History at 0x12b9ccb50>"
      ]
     },
     "execution_count": 14,
     "metadata": {},
     "output_type": "execute_result"
    }
   ],
   "source": [
    "model.fit(\n",
    "    X_train,\n",
    "    y_train,\n",
    "    epochs=1000,\n",
    "    batch_size=16,\n",
    "    validation_data=(X_test, y_test),\n",
    "    callbacks=[cp_callback, es_callback]\n",
    ")"
   ]
  },
  {
   "cell_type": "code",
   "execution_count": 15,
   "metadata": {},
   "outputs": [
    {
     "name": "stdout",
     "output_type": "stream",
     "text": [
      "9/9 [==============================] - 0s 659us/step - loss: 0.1807 - accuracy: 0.9641\n"
     ]
    }
   ],
   "source": [
    "# モデル評価\n",
    "val_loss, val_acc = model.evaluate(X_test, y_test, batch_size=128)"
   ]
  },
  {
   "cell_type": "code",
   "execution_count": 18,
   "metadata": {},
   "outputs": [
    {
     "name": "stdout",
     "output_type": "stream",
     "text": [
      "WARNING:tensorflow:No training configuration found in the save file, so the model was *not* compiled. Compile it manually.\n"
     ]
    }
   ],
   "source": [
    "# 保存したモデルのロード\n",
    "model = tf.keras.models.load_model(model_save_path)"
   ]
  },
  {
   "cell_type": "code",
   "execution_count": 19,
   "metadata": {},
   "outputs": [
    {
     "name": "stdout",
     "output_type": "stream",
     "text": [
      "1/1 [==============================] - 0s 78ms/step\n",
      "[0.7729778  0.16973582 0.05728643]\n",
      "0\n"
     ]
    }
   ],
   "source": [
    "# 推論テスト\n",
    "predict_result = model.predict(np.array([X_test[0]]))\n",
    "print(np.squeeze(predict_result))\n",
    "print(np.argmax(np.squeeze(predict_result)))"
   ]
  },
  {
   "cell_type": "markdown",
   "metadata": {},
   "source": [
    "# 混同行列"
   ]
  },
  {
   "cell_type": "code",
   "execution_count": 20,
   "metadata": {},
   "outputs": [
    {
     "name": "stderr",
     "output_type": "stream",
     "text": [
      "/Users/siddharthfampay/Downloads/Xcode.app/Contents/Developer/Library/Frameworks/Python3.framework/Versions/3.9/lib/python3.9/pty.py:85: RuntimeWarning: os.fork() was called. os.fork() is incompatible with multithreaded code, and JAX is multithreaded, so this will likely lead to a deadlock.\n",
      "  pid, fd = os.forkpty()\n"
     ]
    },
    {
     "name": "stdout",
     "output_type": "stream",
     "text": [
      "Defaulting to user installation because normal site-packages is not writeable\n",
      "Requirement already satisfied: pandas in /Users/siddharthfampay/Library/Python/3.9/lib/python/site-packages (2.2.1)\n",
      "Requirement already satisfied: numpy<2,>=1.22.4 in /Users/siddharthfampay/Library/Python/3.9/lib/python/site-packages (from pandas) (1.24.3)\n",
      "Requirement already satisfied: python-dateutil>=2.8.2 in /Users/siddharthfampay/Library/Python/3.9/lib/python/site-packages (from pandas) (2.9.0.post0)\n",
      "Requirement already satisfied: pytz>=2020.1 in /Users/siddharthfampay/Library/Python/3.9/lib/python/site-packages (from pandas) (2024.1)\n",
      "Requirement already satisfied: tzdata>=2022.7 in /Users/siddharthfampay/Library/Python/3.9/lib/python/site-packages (from pandas) (2024.1)\n",
      "Requirement already satisfied: six>=1.5 in /Users/siddharthfampay/Downloads/Xcode.app/Contents/Developer/Library/Frameworks/Python3.framework/Versions/3.9/lib/python3.9/site-packages (from python-dateutil>=2.8.2->pandas) (1.15.0)\n",
      "Defaulting to user installation because normal site-packages is not writeable\n",
      "Requirement already satisfied: seaborn in /Users/siddharthfampay/Library/Python/3.9/lib/python/site-packages (0.13.2)\n",
      "Requirement already satisfied: numpy!=1.24.0,>=1.20 in /Users/siddharthfampay/Library/Python/3.9/lib/python/site-packages (from seaborn) (1.24.3)\n",
      "Requirement already satisfied: pandas>=1.2 in /Users/siddharthfampay/Library/Python/3.9/lib/python/site-packages (from seaborn) (2.2.1)\n",
      "Requirement already satisfied: matplotlib!=3.6.1,>=3.4 in /Users/siddharthfampay/Library/Python/3.9/lib/python/site-packages (from seaborn) (3.5.1)\n",
      "Requirement already satisfied: cycler>=0.10 in /Users/siddharthfampay/Library/Python/3.9/lib/python/site-packages (from matplotlib!=3.6.1,>=3.4->seaborn) (0.12.1)\n",
      "Requirement already satisfied: fonttools>=4.22.0 in /Users/siddharthfampay/Library/Python/3.9/lib/python/site-packages (from matplotlib!=3.6.1,>=3.4->seaborn) (4.49.0)\n",
      "Requirement already satisfied: kiwisolver>=1.0.1 in /Users/siddharthfampay/Library/Python/3.9/lib/python/site-packages (from matplotlib!=3.6.1,>=3.4->seaborn) (1.4.5)\n",
      "Requirement already satisfied: packaging>=20.0 in /Users/siddharthfampay/Library/Python/3.9/lib/python/site-packages (from matplotlib!=3.6.1,>=3.4->seaborn) (24.0)\n",
      "Requirement already satisfied: pillow>=6.2.0 in /Users/siddharthfampay/Library/Python/3.9/lib/python/site-packages (from matplotlib!=3.6.1,>=3.4->seaborn) (10.2.0)\n",
      "Requirement already satisfied: pyparsing>=2.2.1 in /Users/siddharthfampay/Library/Python/3.9/lib/python/site-packages (from matplotlib!=3.6.1,>=3.4->seaborn) (3.1.2)\n",
      "Requirement already satisfied: python-dateutil>=2.7 in /Users/siddharthfampay/Library/Python/3.9/lib/python/site-packages (from matplotlib!=3.6.1,>=3.4->seaborn) (2.9.0.post0)\n",
      "Requirement already satisfied: pytz>=2020.1 in /Users/siddharthfampay/Library/Python/3.9/lib/python/site-packages (from pandas>=1.2->seaborn) (2024.1)\n",
      "Requirement already satisfied: tzdata>=2022.7 in /Users/siddharthfampay/Library/Python/3.9/lib/python/site-packages (from pandas>=1.2->seaborn) (2024.1)\n",
      "Requirement already satisfied: six>=1.5 in /Users/siddharthfampay/Downloads/Xcode.app/Contents/Developer/Library/Frameworks/Python3.framework/Versions/3.9/lib/python3.9/site-packages (from python-dateutil>=2.7->matplotlib!=3.6.1,>=3.4->seaborn) (1.15.0)\n",
      "35/35 [==============================] - 0s 325us/step\n"
     ]
    },
    {
     "data": {
      "image/png": "[encoded data removed]",
      "text/plain": [
       "<Figure size 700x600 with 2 Axes>"
      ]
     },
     "metadata": {},
     "output_type": "display_data"
    },
    {
     "name": "stdout",
     "output_type": "stream",
     "text": [
      "Classification Report\n",
      "              precision    recall  f1-score   support\n",
      "\n",
      "           0       1.00      0.99      0.99       410\n",
      "           1       0.98      0.92      0.95       385\n",
      "           2       0.91      0.99      0.95       318\n",
      "\n",
      "    accuracy                           0.96      1113\n",
      "   macro avg       0.96      0.96      0.96      1113\n",
      "weighted avg       0.96      0.96      0.96      1113\n",
      "\n"
     ]
    }
   ],
   "source": [
    "!pip3 install pandas\n",
    "!pip3 install seaborn\n",
    "import pandas as pd\n",
    "import seaborn as sns\n",
    "import matplotlib.pyplot as plt\n",
    "from sklearn.metrics import confusion_matrix, classification_report\n",
    "\n",
    "def print_confusion_matrix(y_true, y_pred, report=True):\n",
    "    labels = sorted(list(set(y_true)))\n",
    "    cmx_data = confusion_matrix(y_true, y_pred, labels=labels)\n",
    "    \n",
    "    df_cmx = pd.DataFrame(cmx_data, index=labels, columns=labels)\n",
    " \n",
    "    fig, ax = plt.subplots(figsize=(7, 6))\n",
    "    sns.heatmap(df_cmx, annot=True, fmt='g' ,square=False)\n",
    "    ax.set_ylim(len(set(y_true)), 0)\n",
    "    plt.show()\n",
    "    \n",
    "    if report:\n",
    "        print('Classification Report')\n",
    "        print(classification_report(y_test, y_pred))\n",
    "\n",
    "Y_pred = model.predict(X_test)\n",
    "y_pred = np.argmax(Y_pred, axis=1)\n",
    "\n",
    "print_confusion_matrix(y_test, y_pred)"
   ]
  },
  {
   "cell_type": "markdown",
   "metadata": {},
   "source": [
    "# Tensorflow-Lite用のモデルへ変換"
   ]
  },
  {
   "cell_type": "code",
   "execution_count": 21,
   "metadata": {},
   "outputs": [
    {
     "name": "stdout",
     "output_type": "stream",
     "text": [
      "WARNING:tensorflow:Compiled the loaded model, but the compiled metrics have yet to be built. `model.compile_metrics` will be empty until you train or evaluate the model.\n"
     ]
    },
    {
     "name": "stderr",
     "output_type": "stream",
     "text": [
      "/Users/siddharthfampay/Library/Python/3.9/lib/python/site-packages/keras/src/engine/training.py:3000: UserWarning: You are saving your model as an HDF5 file via `model.save()`. This file format is considered legacy. We recommend using instead the native Keras format, e.g. `model.save('my_model.keras')`.\n",
      "  saving_api.save_model(\n"
     ]
    }
   ],
   "source": [
    "# 推論専用のモデルとして保存\n",
    "model.save(model_save_path, include_optimizer=False)\n"
   ]
  },
  {
   "cell_type": "code",
   "execution_count": 28,
   "metadata": {},
   "outputs": [
    {
     "name": "stdout",
     "output_type": "stream",
     "text": [
      "INFO:tensorflow:Assets written to: /var/folders/ss/bt959stj7bd243dv8rlpvxb80000gn/T/tmplj5smzor/assets\n"
     ]
    },
    {
     "name": "stderr",
     "output_type": "stream",
     "text": [
      "INFO:tensorflow:Assets written to: /var/folders/ss/bt959stj7bd243dv8rlpvxb80000gn/T/tmplj5smzor/assets\n",
      "2024-03-12 09:13:58.979330: W tensorflow/compiler/mlir/lite/python/tf_tfl_flatbuffer_helpers.cc:364] Ignored output_format.\n",
      "2024-03-12 09:13:58.979345: W tensorflow/compiler/mlir/lite/python/tf_tfl_flatbuffer_helpers.cc:367] Ignored drop_control_dependency.\n"
     ]
    },
    {
     "data": {
      "text/plain": [
       "6500"
      ]
     },
     "execution_count": 28,
     "metadata": {},
     "output_type": "execute_result"
    }
   ],
   "source": [
    "# モデルを変換(量子化)\n",
    "tflite_save_path = 'model/keypoint_classifier/keypoint_classifier.tflite'\n",
    "\n",
    "\n",
    "\n",
    "converter = tf.lite.TFLiteConverter.from_keras_model(model)\n",
    "converter.optimizations = [tf.lite.Optimize.DEFAULT]\n",
    "\n",
    "tflite_quantized_model = converter.convert()\n",
    "\n",
    "open(tflite_save_path, 'wb').write(tflite_quantized_model)"
   ]
  },
  {
   "cell_type": "markdown",
   "metadata": {},
   "source": [
    "# 推論テスト"
   ]
  },
  {
   "cell_type": "code",
   "execution_count": 23,
   "metadata": {},
   "outputs": [
    {
     "name": "stderr",
     "output_type": "stream",
     "text": [
      "INFO: Created TensorFlow Lite XNNPACK delegate for CPU.\n"
     ]
    }
   ],
   "source": [
    "interpreter = tf.lite.Interpreter(model_path=tflite_save_path)\n",
    "interpreter.allocate_tensors()"
   ]
  },
  {
   "cell_type": "code",
   "execution_count": 24,
   "metadata": {},
   "outputs": [],
   "source": [
    "# 入出力テンソルを取得\n",
    "input_details = interpreter.get_input_details()\n",
    "output_details = interpreter.get_output_details()"
   ]
  },
  {
   "cell_type": "code",
   "execution_count": 25,
   "metadata": {},
   "outputs": [],
   "source": [
    "interpreter.set_tensor(input_details[0]['index'], np.array([X_test[0]]))"
   ]
  },
  {
   "cell_type": "code",
   "execution_count": 26,
   "metadata": {
    "scrolled": true
   },
   "outputs": [
    {
     "name": "stdout",
     "output_type": "stream",
     "text": [
      "CPU times: user 279 µs, sys: 344 µs, total: 623 µs\n",
      "Wall time: 304 µs\n"
     ]
    }
   ],
   "source": [
    "%%time\n",
    "# 推論実施\n",
    "interpreter.invoke()\n",
    "tflite_results = interpreter.get_tensor(output_details[0]['index'])"
   ]
  },
  {
   "cell_type": "code",
   "execution_count": 27,
   "metadata": {},
   "outputs": [
    {
     "name": "stdout",
     "output_type": "stream",
     "text": [
      "[0.7729778  0.16973579 0.05728643]\n",
      "0\n"
     ]
    }
   ],
   "source": [
    "print(np.squeeze(tflite_results))\n",
    "print(np.argmax(np.squeeze(tflite_results)))"
   ]
  }
 ],
 "metadata": {
  "kernelspec": {
   "display_name": "Python 3",
   "language": "python",
   "name": "python3"
  },
  "language_info": {
   "codemirror_mode": {
    "name": "ipython",
    "version": 3
   },
   "file_extension": ".py",
   "mimetype": "text/x-python",
   "name": "python",
   "nbconvert_exporter": "python",
   "pygments_lexer": "ipython3",
   "version": "3.9.6"
  }
 },
 "nbformat": 4,
 "nbformat_minor": 4
}
